{
 "cells": [
  {
   "cell_type": "code",
   "execution_count": 1,
   "metadata": {},
   "outputs": [
    {
     "name": "stderr",
     "output_type": "stream",
     "text": [
      "Using TensorFlow backend.\n"
     ]
    },
    {
     "name": "stdout",
     "output_type": "stream",
     "text": [
      "keras=2.2.4\n",
      "tensorflow=1.13.1\n",
      "dask=1.1.4\n"
     ]
    }
   ],
   "source": [
    "## development environment\n",
    "# keras=2.2.0\n",
    "# tensorflow=1.8.0\n",
    "# dask=0.18.1\n",
    "import keras\n",
    "import tensorflow as tf\n",
    "import dask\n",
    "\n",
    "import warnings\n",
    "warnings.filterwarnings('ignore')\n",
    "\n",
    "print(\"keras={}\".format(keras.__version__))\n",
    "print(\"tensorflow={}\".format(tf.__version__))\n",
    "print(\"dask={}\".format(dask.__version__))"
   ]
  },
  {
   "cell_type": "code",
   "execution_count": 2,
   "metadata": {},
   "outputs": [],
   "source": [
    "from keras.models import Sequential\n",
    "from keras.layers import Dense"
   ]
  },
  {
   "cell_type": "code",
   "execution_count": 55,
   "metadata": {},
   "outputs": [],
   "source": [
    "# データのインポート\n",
    "import dataset\n",
    "\n",
    "X, Y = dataset.load_data()"
   ]
  },
  {
   "cell_type": "code",
   "execution_count": 4,
   "metadata": {},
   "outputs": [],
   "source": [
    "# 可視化用ライブラリの読み込み\n",
    "%matplotlib inline\n",
    "import numpy as np\n",
    "import matplotlib.pyplot as plt\n",
    "from PIL import Image\n",
    "\n",
    "# Keras関連\n",
    "from keras.utils import np_utils\n",
    "from keras import backend as K\n",
    "from keras.layers import Dropout,Flatten,Conv2D,MaxPooling2D,BatchNormalization,Activation\n",
    "from keras import regularizers\n",
    "from keras.optimizers import SGD, Adadelta, Adam, RMSprop# 最適化手法\n",
    "import time"
   ]
  },
  {
   "cell_type": "code",
   "execution_count": 5,
   "metadata": {},
   "outputs": [],
   "source": [
    "# type1だけにしている\n",
    "y=Y[0]\n",
    "\n",
    "x_train=X[0:700]\n",
    "x_test=X[700:]\n",
    "\n",
    "y_train=y[0:700]\n",
    "y_test=y[700:]"
   ]
  },
  {
   "cell_type": "code",
   "execution_count": 6,
   "metadata": {},
   "outputs": [],
   "source": [
    "# ラベル名を用意\n",
    "type_labels = np.array([\n",
    "    \"Normal\",\n",
    "    \"Fire\",\n",
    "    \"Water\",\n",
    "    \"Electric\",\n",
    "    \"Grass\",\n",
    "    \"Ice\",\n",
    "    \"Fighting\",\n",
    "    \"Poison\",\n",
    "    \"Ground\",\n",
    "    \"Flying\",\n",
    "    \"Psychic\",\n",
    "    \"Bug\",\n",
    "    \"Rock\",\n",
    "    \"Ghost\",\n",
    "    \"Dragon\",\n",
    "    \"Dark\",\n",
    "    \"Steel\",\n",
    "    \"Fairy\"])"
   ]
  },
  {
   "cell_type": "code",
   "execution_count": 7,
   "metadata": {},
   "outputs": [],
   "source": [
    "img_rows, img_cols = 64, 64\n",
    "img_channels = 4\n",
    "nb_classes = 18 # 正解のパターン数"
   ]
  },
  {
   "cell_type": "code",
   "execution_count": 8,
   "metadata": {},
   "outputs": [],
   "source": [
    "# # 各ラベルごとに画像を10枚格納\n",
    "# img_list = []\n",
    "# for for_1 in range(3):\n",
    "#     choice_idx = np.random.choice(np.where(y_test == for_1)[0], 10)\n",
    "#     img_list.append(x_test[choice_idx])"
   ]
  },
  {
   "cell_type": "code",
   "execution_count": 9,
   "metadata": {},
   "outputs": [],
   "source": [
    "# # データの可視化\n",
    "# for for_1 in range(3):\n",
    "#     fig, ax = plt.subplots(1, 10, figsize=(18, 8))\n",
    "#     for for_2 in range(10):\n",
    "#         ax[for_2].imshow(img_list[for_1][for_2].reshape(img_rows, img_cols, img_channels)) #for_2の値+nでn番目以降のテストデータを出力する．\n",
    "#         ax[for_2].set_title(type_labels[for_1])\n",
    "#         ax[for_2].axis('off')"
   ]
  },
  {
   "cell_type": "code",
   "execution_count": 8,
   "metadata": {},
   "outputs": [],
   "source": [
    "x_train = x_train.astype(np.float32) / 255.\n",
    "x_test = x_test.astype(np.float32) / 255."
   ]
  },
  {
   "cell_type": "code",
   "execution_count": 9,
   "metadata": {},
   "outputs": [],
   "source": [
    "nb_classes = 18 # 正解のパターン数"
   ]
  },
  {
   "cell_type": "code",
   "execution_count": 10,
   "metadata": {},
   "outputs": [],
   "source": [
    "from keras.utils import np_utils\n",
    "# クラスベクトルをバイナリクラスの行列に変換する\n",
    "y_train = np_utils.to_categorical(y_train, nb_classes)\n",
    "y_test = np_utils.to_categorical(y_test, nb_classes)"
   ]
  },
  {
   "cell_type": "code",
   "execution_count": 11,
   "metadata": {},
   "outputs": [],
   "source": [
    "# backendの違いによる次元数の入力型の調整(おまじない)\n",
    "from keras import backend as K\n",
    "\n",
    "if K.image_data_format() == 'channels_first':\n",
    "    x_train = x_train.reshape(x_train.shape[0], img_channels, img_rows, img_cols)\n",
    "    x_test = x_test.reshape(x_test.shape[0], img_channels, img_rows, img_cols)\n",
    "    input_shape = (img_channels, img_rows, img_cols)\n",
    "else:\n",
    "    x_train = x_train.reshape(x_train.shape[0], img_rows, img_cols, img_channels)\n",
    "    x_test = x_test.reshape(x_test.shape[0], img_rows, img_cols, img_channels)\n",
    "    input_shape = (img_rows, img_cols, img_channels)"
   ]
  },
  {
   "cell_type": "code",
   "execution_count": 13,
   "metadata": {},
   "outputs": [],
   "source": [
    "from keras.layers import Dropout,Flatten,Conv2D,MaxPooling2D,BatchNormalization,Activation\n",
    "from keras import regularizers"
   ]
  },
  {
   "cell_type": "code",
   "execution_count": 19,
   "metadata": {},
   "outputs": [],
   "source": [
    "\"\"\"\n",
    "model.add()の中にConv2DやMaxPooling2Dをいれてモデルを作ってみよう\n",
    "\n",
    "サンプルで使用している関数一覧\n",
    "---\n",
    "# データの一次元配列化\n",
    "    model.add(Flatten()) # 全結合層につなげる直前に使おう\n",
    "# 全結合層\n",
    "    model.add(Dense(次元数, activation=活性化関数)) \n",
    "# 畳み込み層\n",
    "    model.add(Conv2D(次元数, kernel_size=フィルターのサイズ,activation=活性化関数,input_shape=input_shape))\n",
    "# プーリング層\n",
    "    model.add(MaxPooling2D(pool_size=プーリングするサイズ))\n",
    "# ドロップアウト\n",
    "model.add(Dropout(0から1までの数値)) # 学習するパーセプトロンのうち使用しない割合を設定\n",
    "---\n",
    "\n",
    "その他、調べてみて便利な関数があればぜひ追加してみよう\n",
    "\"\"\"\n",
    "\n",
    "weight_decay = 1e-4\n",
    "model = Sequential()\n",
    "\n",
    "model.add(Conv2D(32, (2,2), padding='same', activation='relu', input_shape=input_shape))\n",
    "model.add(BatchNormalization())\n",
    "# model.add(MaxPooling2D(pool_size=(2,2)))\n",
    "model.add(Conv2D(64, (2,2), padding='same', activation='relu'))\n",
    "model.add(BatchNormalization())\n",
    "model.add(MaxPooling2D(pool_size=(2,2)))\n",
    "model.add(Dropout(0.4))\n",
    "\n",
    "\n",
    "model.add(Conv2D(128, (2,2), padding='same', activation='relu'))\n",
    "model.add(BatchNormalization())\n",
    "# model.add(MaxPooling2D(pool_size=(2,2)))\n",
    "model.add(Conv2D(128, (2,2), padding='same', activation='relu'))\n",
    "model.add(BatchNormalization())\n",
    "model.add(MaxPooling2D(pool_size=(2,2)))\n",
    "model.add(Dropout(0.4))\n",
    "\n",
    "\n",
    "model.add(Conv2D(256, (2,2), padding='same', activation='relu'))\n",
    "model.add(BatchNormalization())\n",
    "# model.add(MaxPooling2D(pool_size=(2,2)))\n",
    "model.add(Conv2D(256, (2,2), padding='same', activation='relu'))\n",
    "model.add(BatchNormalization())\n",
    "model.add(MaxPooling2D(pool_size=(2,2)))\n",
    "model.add(Dropout(0.4))\n",
    "\n",
    "\n",
    "model.add(Flatten())\n",
    "model.add(Dropout(0.4))\n",
    "model.add(Dense(512, activation='relu'))\n",
    "model.add(Dense(18, activation='softmax'))"
   ]
  },
  {
   "cell_type": "code",
   "execution_count": 20,
   "metadata": {},
   "outputs": [
    {
     "name": "stdout",
     "output_type": "stream",
     "text": [
      "_________________________________________________________________\n",
      "Layer (type)                 Output Shape              Param #   \n",
      "=================================================================\n",
      "conv2d_19 (Conv2D)           (None, 64, 64, 32)        544       \n",
      "_________________________________________________________________\n",
      "batch_normalization_19 (Batc (None, 64, 64, 32)        128       \n",
      "_________________________________________________________________\n",
      "conv2d_20 (Conv2D)           (None, 64, 64, 64)        8256      \n",
      "_________________________________________________________________\n",
      "batch_normalization_20 (Batc (None, 64, 64, 64)        256       \n",
      "_________________________________________________________________\n",
      "max_pooling2d_12 (MaxPooling (None, 32, 32, 64)        0         \n",
      "_________________________________________________________________\n",
      "dropout_13 (Dropout)         (None, 32, 32, 64)        0         \n",
      "_________________________________________________________________\n",
      "conv2d_21 (Conv2D)           (None, 32, 32, 128)       32896     \n",
      "_________________________________________________________________\n",
      "batch_normalization_21 (Batc (None, 32, 32, 128)       512       \n",
      "_________________________________________________________________\n",
      "conv2d_22 (Conv2D)           (None, 32, 32, 128)       65664     \n",
      "_________________________________________________________________\n",
      "batch_normalization_22 (Batc (None, 32, 32, 128)       512       \n",
      "_________________________________________________________________\n",
      "max_pooling2d_13 (MaxPooling (None, 16, 16, 128)       0         \n",
      "_________________________________________________________________\n",
      "dropout_14 (Dropout)         (None, 16, 16, 128)       0         \n",
      "_________________________________________________________________\n",
      "conv2d_23 (Conv2D)           (None, 16, 16, 256)       131328    \n",
      "_________________________________________________________________\n",
      "batch_normalization_23 (Batc (None, 16, 16, 256)       1024      \n",
      "_________________________________________________________________\n",
      "conv2d_24 (Conv2D)           (None, 16, 16, 256)       262400    \n",
      "_________________________________________________________________\n",
      "batch_normalization_24 (Batc (None, 16, 16, 256)       1024      \n",
      "_________________________________________________________________\n",
      "max_pooling2d_14 (MaxPooling (None, 8, 8, 256)         0         \n",
      "_________________________________________________________________\n",
      "dropout_15 (Dropout)         (None, 8, 8, 256)         0         \n",
      "_________________________________________________________________\n",
      "flatten_4 (Flatten)          (None, 16384)             0         \n",
      "_________________________________________________________________\n",
      "dropout_16 (Dropout)         (None, 16384)             0         \n",
      "_________________________________________________________________\n",
      "dense_7 (Dense)              (None, 512)               8389120   \n",
      "_________________________________________________________________\n",
      "dense_8 (Dense)              (None, 18)                9234      \n",
      "=================================================================\n",
      "Total params: 8,902,898\n",
      "Trainable params: 8,901,170\n",
      "Non-trainable params: 1,728\n",
      "_________________________________________________________________\n"
     ]
    }
   ],
   "source": [
    "model.summary()"
   ]
  },
  {
   "cell_type": "code",
   "execution_count": 21,
   "metadata": {},
   "outputs": [],
   "source": [
    "from keras.optimizers import SGD, Adadelta, Adam, RMSprop# 最適化手法\n",
    "from keras import optimizers\n",
    "\n",
    "\"\"\"\n",
    "モデルを評価する関数をmodel.compile()で定義しよう\n",
    "\n",
    "実際にmodel.compileの中にはこのようにします\n",
    "\n",
    "model.compile(loss=誤差関数,\n",
    "             optimizer=最適化関数,\n",
    "             metrics=['accuracy']\n",
    "             )\n",
    "             \n",
    "誤差関数　モデルの精度の悪さを表す指標　誤差逆伝播時にパラメータの更新方向を決定する数値\n",
    "・categorical_crossentropy\n",
    "\n",
    "最適化関数(好きなものを選ぼう)　誤差逆伝播時にパラメータを更新する手法\n",
    "・SGD\n",
    "・Adadelta\n",
    "・Adam\n",
    "  Adamは最近主流になっている最適化関数。一般的にSGDよりも優秀(例外はある)。\n",
    "・RMSprop\n",
    "\n",
    "評価指標\n",
    "・accuracy\n",
    "\"\"\"\n",
    "# 損失関数\n",
    "def categorical_loss(y_true, y_pred):\n",
    "    return K.categorical_crossentropy(y_true, y_pred)\n",
    "\n",
    "# 評価関数\n",
    "def total_acc(y_true, y_pred):\n",
    "    pred = K.cast(K.greater_equal(y_pred, 0.5), \"float\")\n",
    "    flag = K.cast(K.equal(y_true, pred), \"float\")\n",
    "    return K.prod(flag, axis=-1)\n",
    "\n",
    "def binary_acc(y_true, y_pred):\n",
    "    pred = K.cast(K.greater_equal(y_pred, 0.5), \"float\")\n",
    "    flag = K.cast(K.equal(y_true, pred), \"float\")\n",
    "    return K.mean(flag, axis=-1)\n",
    "\n",
    "\n",
    "model.compile(loss=categorical_loss, # 誤差(損失)関数\n",
    "              optimizer=\"Adam\", # 最適化関数\n",
    "              metrics=[total_acc, binary_acc] # 評価指標\n",
    "             )"
   ]
  },
  {
   "cell_type": "code",
   "execution_count": 51,
   "metadata": {},
   "outputs": [],
   "source": [
    "def get_model():\n",
    "    \n",
    "    weight_decay = 1e-4\n",
    "    model = Sequential()\n",
    "\n",
    "    model.add(Conv2D(64, (2,2), padding='same', activation='relu', input_shape=input_shape))\n",
    "    model.add(BatchNormalization())\n",
    "#     model.add(MaxPooling2D(pool_size=(2,2)))\n",
    "    model.add(Conv2D(64, (2,2), padding='same', activation='relu'))\n",
    "    model.add(BatchNormalization())\n",
    "    model.add(MaxPooling2D(pool_size=(2,2)))\n",
    "    model.add(Dropout(0.4))\n",
    "\n",
    "\n",
    "    model.add(Conv2D(128, (2,2), padding='same', activation='relu'))\n",
    "    model.add(BatchNormalization())\n",
    "    model.add(MaxPooling2D(pool_size=(2,2)))\n",
    "    model.add(Conv2D(128, (2,2), padding='same', activation='relu'))\n",
    "    model.add(BatchNormalization())\n",
    "    model.add(MaxPooling2D(pool_size=(2,2)))\n",
    "    model.add(Dropout(0.4))\n",
    "\n",
    "\n",
    "    model.add(Conv2D(256, (2,2), padding='same', activation='relu'))\n",
    "    model.add(BatchNormalization())\n",
    "    model.add(MaxPooling2D(pool_size=(2,2)))\n",
    "    model.add(Conv2D(256, (2,2), padding='same', activation='relu'))\n",
    "    model.add(BatchNormalization())\n",
    "    model.add(MaxPooling2D(pool_size=(2,2)))\n",
    "    model.add(Dropout(0.4))\n",
    "\n",
    "\n",
    "    model.add(Flatten())\n",
    "    model.add(Dropout(0.4))\n",
    "    model.add(Dense(512, activation='relu'))\n",
    "    model.add(Dense(18, activation='softmax'))\n",
    "    \n",
    "    return model"
   ]
  },
  {
   "cell_type": "code",
   "execution_count": null,
   "metadata": {},
   "outputs": [],
   "source": [
    "from sklearn.model_selection import KFold\n",
    "import keras.backend as K\n",
    "\n",
    "\n",
    "kf = KFold(n_splits=8, shuffle=False)\n",
    "\n",
    "score_average = []\n",
    "accuracy_average = []\n",
    "\n",
    "# 損失関数\n",
    "def categorical_loss(y_true, y_pred):\n",
    "    return K.categorical_crossentropy(y_true, y_pred)\n",
    "\n",
    "# 評価関数\n",
    "def total_acc(y_true, y_pred):\n",
    "    pred = K.cast(K.greater_equal(y_pred, 0.5), \"float\")\n",
    "    flag = K.cast(K.equal(y_true, pred), \"float\")\n",
    "    return K.prod(flag, axis=-1)\n",
    "\n",
    "def binary_acc(y_true, y_pred):\n",
    "    pred = K.cast(K.greater_equal(y_pred, 0.5), \"float\")\n",
    "    flag = K.cast(K.equal(y_true, pred), \"float\")\n",
    "    return K.mean(flag, axis=-1)\n",
    "\n",
    "for train_index, test_index in kf.split(X,y):\n",
    "    X_train, X_test = X[train_index], X[test_index]\n",
    "    Y_train, Y_test = y[train_index], y[test_index]\n",
    "    \n",
    "    Y_train = np_utils.to_categorical(Y_train, nb_classes)\n",
    "    Y_test = np_utils.to_categorical(Y_test, nb_classes)\n",
    "    \n",
    "    if K.image_data_format() == 'channels_first':\n",
    "        X_train = X_train.reshape(X_train.shape[0], img_channels, img_rows, img_cols)\n",
    "        X_test = X_test.reshape(xX_test.shape[0], img_channels, img_rows, img_cols)\n",
    "        input_shape = (img_channels, img_rows, img_cols)\n",
    "    else:\n",
    "        X_train = X_train.reshape(X_train.shape[0], img_rows, img_cols, img_channels)\n",
    "        X_test = X_test.reshape(X_test.shape[0], img_rows, img_cols, img_channels)\n",
    "        input_shape = (img_rows, img_cols, img_channels)\n",
    "    \n",
    "    model = get_model()\n",
    "    \n",
    "    model.compile(loss=categorical_loss, # 誤差(損失)関数\n",
    "              optimizer=optimizers.RMSprop(lr=1e-4), # 最適化関数\n",
    "              metrics=[total_acc, binary_acc] # 評価指標\n",
    "             )\n",
    "    \n",
    "    history = model.fit(X_train, Y_train,\n",
    "                    batch_size=32,\n",
    "                    nb_epoch=5,\n",
    "                    verbose=1,\n",
    "                    validation_data=(X_test, Y_test)\n",
    "                   )\n",
    "    \n",
    "    score = model.evaluate(X_test, Y_test, verbose=0)\n",
    "    print('Test score:', score[0]) # 損失関数の値\n",
    "    score_average.append(score[0])\n",
    "    print('Test accuracy:', score[1]) # 精度(98%強)\n",
    "    accuracy_average.append(score[1])\n",
    "    \n",
    "    \n",
    "    fig, ax = plt.subplots(1, 2, figsize=(12, 6))\n",
    "    ax[0].set_title('Training performance (Loss)')\n",
    "    ax[0].plot(history.epoch, history.history['loss'], label='loss')\n",
    "    ax[0].plot(history.epoch, history.history['val_loss'], label='val_loss')\n",
    "    ax[0].set(xlabel='Epoch', ylabel='Loss')\n",
    "    ax[0].legend()\n",
    "\n",
    "    ax[1].set_title('Training performance (Accuracy)')\n",
    "    ax[1].plot(history.epoch, history.history['total_acc'], label='acc')\n",
    "    ax[1].plot(history.epoch, history.history['val_total_acc'], label='val_acc')\n",
    "    ax[1].set(xlabel='Epoch', ylabel='Accuracy')\n",
    "    ax[1].legend(loc='best')\n",
    "\n",
    "print(\"test score average:\", np.mean(score_average))\n",
    "print(\"test accuracy average:\", np.mean(accuracy_average))"
   ]
  },
  {
   "cell_type": "code",
   "execution_count": 16,
   "metadata": {},
   "outputs": [],
   "source": [
    "#モデルの保存\n",
    "json_string = model.model.to_json()\n",
    "open('predict.json', 'w').write(json_string)\n",
    "\n",
    "#重みの保存\n",
    "hdf5_file = \"predict.hdf5\"\n",
    "model.model.save_weights(hdf5_file)"
   ]
  },
  {
   "cell_type": "code",
   "execution_count": 47,
   "metadata": {},
   "outputs": [
    {
     "data": {
      "text/plain": [
       "(64, 64, 4)"
      ]
     },
     "execution_count": 47,
     "metadata": {},
     "output_type": "execute_result"
    }
   ],
   "source": [
    "# img = Image.open(\"../../data/images/0001.png\")\n",
    "img = Image.open(\"kajirigame.png\")\n",
    "img = img.convert(\"RGBA\")\n",
    "img = img.resize((64,64))\n",
    "img = np.array(img)\n",
    "img = img.astype(np.float32) / 255.\n",
    "img.shape"
   ]
  },
  {
   "cell_type": "code",
   "execution_count": 48,
   "metadata": {},
   "outputs": [
    {
     "data": {
      "text/plain": [
       "<matplotlib.image.AxesImage at 0x7f38cba31748>"
      ]
     },
     "execution_count": 48,
     "metadata": {},
     "output_type": "execute_result"
    },
    {
     "data": {
      "image/png": "[encoded data removed]",
      "text/plain": [
       "<Figure size 432x288 with 1 Axes>"
      ]
     },
     "metadata": {
      "needs_background": "light"
     },
     "output_type": "display_data"
    }
   ],
   "source": [
    "ax = plt.subplot()\n",
    "ax.imshow(img)"
   ]
  },
  {
   "cell_type": "code",
   "execution_count": 29,
   "metadata": {},
   "outputs": [
    {
     "name": "stdout",
     "output_type": "stream",
     "text": [
      "Poison\n"
     ]
    }
   ],
   "source": [
    "#綾鷹を選ばせるプログラム\n",
    "from keras import models\n",
    "from keras.models import model_from_json\n",
    "from keras.preprocessing import image\n",
    "import numpy as np\n",
    "\n",
    "#保存したモデルの読み込み\n",
    "model = model_from_json(open('predict.json').read())\n",
    "#保存した重みの読み込み\n",
    "model.load_weights('predict.hdf5')\n",
    "\n",
    "# categories = type_labels\n",
    "\n",
    "#画像を読み込む\n",
    "img = Image.open(\"/workspace/data/images/0801.png\")\n",
    "img = img.resize((64,64))\n",
    "x = np.array(img)\n",
    "x = np.expand_dims(x, axis=0)\n",
    "\n",
    "#予測\n",
    "features = model.predict(x)\n",
    "\n",
    "print(type_labels[np.argmax(features)])\n",
    "\n",
    "# #予測結果によって処理を分ける\n",
    "# if features[0,0] == 1:\n",
    "#     print (\"選ばれたのは、綾鷹でした。\")\n",
    "\n",
    "# elif features[0,4] == 1:\n",
    "#     print (\"選ばれたのは、綾鷹（茶葉のあまみ）でした。\")\n",
    "\n",
    "# else:\n",
    "#     for i in range(0,10):\n",
    "#           if features[0,i] == 1:\n",
    "#               cat = categories[i]\n",
    "#     message = \"綾鷹を選んでください。（もしかして：あなたが選んでいるのは「\" + cat + \"」ではありませんか？）\"\n",
    "#     print(message)\n"
   ]
  },
  {
   "cell_type": "code",
   "execution_count": 28,
   "metadata": {},
   "outputs": [
    {
     "ename": "ValueError",
     "evalue": "'a' cannot be empty unless no samples are taken",
     "output_type": "error",
     "traceback": [
      "\u001b[0;31m---------------------------------------------------------------------------\u001b[0m",
      "\u001b[0;31mValueError\u001b[0m                                Traceback (most recent call last)",
      "\u001b[0;32m<ipython-input-28-acd0617c5f41>\u001b[0m in \u001b[0;36m<module>\u001b[0;34m\u001b[0m\n\u001b[1;32m      4\u001b[0m     \u001b[0mNew_test\u001b[0m \u001b[0;34m=\u001b[0m \u001b[0;34m[\u001b[0m\u001b[0;34m]\u001b[0m\u001b[0;34m\u001b[0m\u001b[0;34m\u001b[0m\u001b[0m\n\u001b[1;32m      5\u001b[0m     \u001b[0;32mfor\u001b[0m \u001b[0mfor_1\u001b[0m \u001b[0;32min\u001b[0m \u001b[0mrange\u001b[0m\u001b[0;34m(\u001b[0m\u001b[0;36m18\u001b[0m\u001b[0;34m)\u001b[0m\u001b[0;34m:\u001b[0m\u001b[0;34m\u001b[0m\u001b[0;34m\u001b[0m\u001b[0m\n\u001b[0;32m----> 6\u001b[0;31m         \u001b[0mchoice_idx\u001b[0m \u001b[0;34m=\u001b[0m \u001b[0mnp\u001b[0m\u001b[0;34m.\u001b[0m\u001b[0mrandom\u001b[0m\u001b[0;34m.\u001b[0m\u001b[0mchoice\u001b[0m\u001b[0;34m(\u001b[0m\u001b[0mnp\u001b[0m\u001b[0;34m.\u001b[0m\u001b[0mwhere\u001b[0m\u001b[0;34m(\u001b[0m\u001b[0my_test\u001b[0m\u001b[0;34m[\u001b[0m\u001b[0;36m0\u001b[0m\u001b[0;34m]\u001b[0m \u001b[0;34m==\u001b[0m \u001b[0mfor_1\u001b[0m\u001b[0;34m)\u001b[0m\u001b[0;34m[\u001b[0m\u001b[0;36m0\u001b[0m\u001b[0;34m]\u001b[0m\u001b[0;34m)\u001b[0m\u001b[0;34m\u001b[0m\u001b[0;34m\u001b[0m\u001b[0m\n\u001b[0m\u001b[1;32m      7\u001b[0m         \u001b[0mNew_test\u001b[0m\u001b[0;34m.\u001b[0m\u001b[0mappend\u001b[0m\u001b[0;34m(\u001b[0m\u001b[0mx_test\u001b[0m\u001b[0;34m[\u001b[0m\u001b[0mchoice_idx\u001b[0m\u001b[0;34m]\u001b[0m\u001b[0;34m)\u001b[0m\u001b[0;34m\u001b[0m\u001b[0;34m\u001b[0m\u001b[0m\n\u001b[1;32m      8\u001b[0m     \u001b[0mNew_test\u001b[0m \u001b[0;34m=\u001b[0m \u001b[0mnp\u001b[0m\u001b[0;34m.\u001b[0m\u001b[0marray\u001b[0m\u001b[0;34m(\u001b[0m\u001b[0mNew_test\u001b[0m\u001b[0;34m)\u001b[0m\u001b[0;34m\u001b[0m\u001b[0;34m\u001b[0m\u001b[0m\n",
      "\u001b[0;32mmtrand.pyx\u001b[0m in \u001b[0;36mmtrand.RandomState.choice\u001b[0;34m()\u001b[0m\n",
      "\u001b[0;31mValueError\u001b[0m: 'a' cannot be empty unless no samples are taken"
     ]
    }
   ],
   "source": [
    "for i in range(10):\n",
    "    # 予測値\n",
    "    # 各ラベルごとに画像を18枚格納\n",
    "    New_test = []\n",
    "    for for_1 in range(18):\n",
    "        choice_idx = np.random.choice(np.where(y_test == for_1)[0])\n",
    "        New_test.append(x_test[choice_idx])\n",
    "    New_test = np.array(New_test)\n",
    "    # 画像のラベルを推定する\n",
    "    y_test_pred = model.predict(New_test)\n",
    "\n",
    "    # データの可視化\n",
    "    # 上段は正しいラベル　下段は推測ラベル\n",
    "    fig, ax = plt.subplots(1, 18, figsize=(18, 8))\n",
    "    for for_1 in range(18):\n",
    "        ax[for_1].imshow(New_test[for_1].reshape(64, 64, 4)) #for_2の値+nでn番目以降のテストデータを出力する．\n",
    "        ax[for_1].set_title(type_labels[for_1]+\"\\n\"+type_labels[np.argmax(y_test_pred[for_1])])\n",
    "        ax[for_1].axis('off')"
   ]
  },
  {
   "cell_type": "code",
   "execution_count": null,
   "metadata": {},
   "outputs": [],
   "source": [
    "# # データの可視化\n",
    "# # 上段は正しいラベル　下段は推測ラベル\n",
    "# fig, ax = plt.subplots(1, 18, figsize=(18, 8))\n",
    "# for for_1 in range(18):\n",
    "#     ax[for_1].imshow(New_test[for_1].reshape(64, 64, 4)) #for_2の値+nでn番目以降のテストデータを出力する．\n",
    "#     ax[for_1].set_title(type_labels[for_1]+\"\\n\"+type_labels[np.argmax(y_test_pred[for_1])])\n",
    "#     ax[for_1].axis('off')"
   ]
  },
  {
   "cell_type": "code",
   "execution_count": 11,
   "metadata": {},
   "outputs": [],
   "source": [
    "predict = model.predict(x_test)"
   ]
  },
  {
   "cell_type": "code",
   "execution_count": 1,
   "metadata": {},
   "outputs": [
    {
     "ename": "NameError",
     "evalue": "name 'type_labels' is not defined",
     "output_type": "error",
     "traceback": [
      "\u001b[0;31m---------------------------------------------------------------------------\u001b[0m",
      "\u001b[0;31mNameError\u001b[0m                                 Traceback (most recent call last)",
      "\u001b[0;32m<ipython-input-1-54507fd082e1>\u001b[0m in \u001b[0;36m<module>\u001b[0;34m\u001b[0m\n\u001b[1;32m      1\u001b[0m \u001b[0;32mfor\u001b[0m \u001b[0mi\u001b[0m \u001b[0;32min\u001b[0m \u001b[0mrange\u001b[0m\u001b[0;34m(\u001b[0m\u001b[0;36m1\u001b[0m\u001b[0;34m)\u001b[0m\u001b[0;34m:\u001b[0m\u001b[0;34m\u001b[0m\u001b[0;34m\u001b[0m\u001b[0m\n\u001b[0;32m----> 2\u001b[0;31m     \u001b[0mprint\u001b[0m\u001b[0;34m(\u001b[0m\u001b[0mtype_labels\u001b[0m\u001b[0;34m[\u001b[0m\u001b[0mnp\u001b[0m\u001b[0;34m.\u001b[0m\u001b[0margmax\u001b[0m\u001b[0;34m(\u001b[0m\u001b[0mpredict\u001b[0m\u001b[0;34m[\u001b[0m\u001b[0mi\u001b[0m\u001b[0;34m]\u001b[0m\u001b[0;34m)\u001b[0m\u001b[0;34m]\u001b[0m\u001b[0;34m)\u001b[0m\u001b[0;34m\u001b[0m\u001b[0;34m\u001b[0m\u001b[0m\n\u001b[0m",
      "\u001b[0;31mNameError\u001b[0m: name 'type_labels' is not defined"
     ]
    }
   ],
   "source": [
    "for i in range(1):\n",
    "    print(type_labels[np.argmax(predict[i])])"
   ]
  },
  {
   "cell_type": "code",
   "execution_count": 23,
   "metadata": {},
   "outputs": [
    {
     "name": "stdout",
     "output_type": "stream",
     "text": [
      "WARNING:tensorflow:From /opt/conda/lib/python3.7/site-packages/tensorflow/python/ops/math_ops.py:3066: to_int32 (from tensorflow.python.ops.math_ops) is deprecated and will be removed in a future version.\n",
      "Instructions for updating:\n",
      "Use tf.cast instead.\n",
      "Train on 700 samples, validate on 101 samples\n",
      "Epoch 1/3\n",
      "700/700 [==============================] - 28s 39ms/step - loss: 13.7140 - total_acc: 0.1186 - binary_acc: 0.9028 - val_loss: 14.2031 - val_total_acc: 0.1188 - val_binary_acc: 0.9021\n",
      "Epoch 2/3\n",
      "700/700 [==============================] - 20s 29ms/step - loss: 13.9767 - total_acc: 0.1329 - binary_acc: 0.9037 - val_loss: 14.2031 - val_total_acc: 0.1188 - val_binary_acc: 0.9021\n",
      "Epoch 3/3\n",
      "700/700 [==============================] - 19s 27ms/step - loss: 13.9767 - total_acc: 0.1329 - binary_acc: 0.9037 - val_loss: 14.2031 - val_total_acc: 0.1188 - val_binary_acc: 0.9021\n"
     ]
    }
   ],
   "source": [
    "# 学習を実行\n",
    "# 学習途中の損失関数の値などはhistory.historyに保存される。\n",
    "# CIFAR-10のようにカラー画像ともなると学習時間が多くなってしまう……\n",
    "# 今回は学習を早く終わらせるために学習に使用するデータの数を[:1024]と少なくしている。\n",
    "# 精度を重視するならX_train[:1024]をX_trainとし全てのデータを使用すべき。\n",
    "# ここでエラーが吐かれる場合、jupyterのrestart the kernelのボタンを押して最初から動かしてみるなど。\n",
    "\n",
    "history = model.fit(x_train, y_train,\n",
    "                    batch_size=32,  # 512個ランダムに得る\n",
    "                    nb_epoch=3, # 試行回数\n",
    "                    verbose=1,\n",
    "                    validation_data=(x_test, y_test)\n",
    "                   )"
   ]
  },
  {
   "cell_type": "code",
   "execution_count": null,
   "metadata": {},
   "outputs": [],
   "source": [
    "# テストデータに対する評価値\n",
    "score = model.evaluate(x_test, y_test, verbose=0)\n",
    "print('Test score:', score[0]) # 損失関数の値\n",
    "print('Test accuracy:', score[1]) # 精度(98%強)"
   ]
  },
  {
   "cell_type": "code",
   "execution_count": 25,
   "metadata": {},
   "outputs": [
    {
     "data": {
      "text/plain": [
       "<matplotlib.legend.Legend at 0x7f31c5dacc18>"
      ]
     },
     "execution_count": 25,
     "metadata": {},
     "output_type": "execute_result"
    },
    {
     "data": {
      "image/png": "[encoded data removed]",
      "text/plain": [
       "<Figure size 864x432 with 2 Axes>"
      ]
     },
     "metadata": {
      "needs_background": "light"
     },
     "output_type": "display_data"
    }
   ],
   "source": [
    "# 学習曲線\n",
    "fig, ax = plt.subplots(1, 2, figsize=(12, 6))\n",
    "ax[0].set_title('Training performance (Loss)')\n",
    "ax[0].plot(history.epoch, history.history['loss'], label='loss')\n",
    "ax[0].plot(history.epoch, history.history['val_loss'], label='val_loss')\n",
    "ax[0].set(xlabel='Epoch', ylabel='Loss')\n",
    "ax[0].legend()\n",
    "\n",
    "ax[1].set_title('Training performance (Accuracy)')\n",
    "ax[1].plot(history.epoch, history.history['acc'], label='acc')\n",
    "ax[1].plot(history.epoch, history.history['val_acc'], label='val_acc')\n",
    "ax[1].set(xlabel='Epoch', ylabel='Accuracy')\n",
    "ax[1].legend(loc='best')"
   ]
  },
  {
   "cell_type": "code",
   "execution_count": null,
   "metadata": {},
   "outputs": [],
   "source": [
    "from keras.preprocessing import image\n",
    "from keras.preprocessing.image import ImageDataGenerator, img_to_array, array_to_img\n",
    "import matplotlib.pyplot as plt"
   ]
  },
  {
   "cell_type": "code",
   "execution_count": null,
   "metadata": {},
   "outputs": [],
   "source": [
    "# datagen = ImageDataGenerator(\n",
    "#            rotation_range=0,\n",
    "#            width_shift_range=0,\n",
    "#            height_shift_range=0,\n",
    "#            shear_range=0,\n",
    "#            zoom_range=0,\n",
    "#            horizontal_flip=False,\n",
    "#            vertical_flip=False)"
   ]
  },
  {
   "cell_type": "code",
   "execution_count": null,
   "metadata": {},
   "outputs": [],
   "source": [
    "import matplotlib.pyplot as plt\n",
    "img = x_train[0]\n",
    "# plt.imshow(img)\n",
    "# plt.show()\n",
    "\n",
    "x = img_to_array(img)\n",
    "x = x.reshape((1,) + x.shape)\n",
    "print(x.shape)\n",
    "\n",
    "datagen = ImageDataGenerator(horizontal_flip=True)\n",
    "g = datagen.flow(x, batch_size=1)\n",
    "for i in range(4):\n",
    "    batches = g.next()\n",
    "    \n",
    "    # 画像として表示するため、４次元から3次元データにし、配列から画像にする。\n",
    "    gen_img = array_to_img(batches[0])\n",
    " \n",
    "    plt.subplot(2, 2, i + 1)\n",
    "    plt.imshow(gen_img)\n",
    "    plt.axis('off')\n",
    " \n",
    "plt.show()"
   ]
  },
  {
   "cell_type": "code",
   "execution_count": 21,
   "metadata": {},
   "outputs": [
    {
     "name": "stdout",
     "output_type": "stream",
     "text": [
      "Downloading data from https://s3.amazonaws.com/img-datasets/mnist.npz\n",
      "11493376/11490434 [==============================] - 13s 1us/step\n",
      "Epoch 1/1\n",
      "47995/47995 [==============================] - 8s 175us/step - loss: 0.2744 - acc: 0.9142\n",
      "acc: 95.49%\n",
      "Epoch 1/1\n",
      "47998/47998 [==============================] - 8s 160us/step - loss: 0.2752 - acc: 0.9147\n",
      "acc: 96.20%\n",
      "Epoch 1/1\n",
      "48000/48000 [==============================] - 7s 154us/step - loss: 0.2721 - acc: 0.9149\n",
      "acc: 96.24%\n",
      "Epoch 1/1\n",
      "48003/48003 [==============================] - 8s 158us/step - loss: 0.2723 - acc: 0.9162\n",
      "acc: 95.61%\n",
      "Epoch 1/1\n",
      "48004/48004 [==============================] - 8s 162us/step - loss: 0.2769 - acc: 0.9134\n",
      "acc: 95.76%\n",
      "95.86% (+/- 0.31%)\n"
     ]
    }
   ],
   "source": [
    "import keras\n",
    "from keras.datasets import mnist\n",
    "from keras.models import Sequential\n",
    "from keras.layers import Dense, Dropout\n",
    "from keras.optimizers import RMSprop\n",
    "from sklearn.model_selection import StratifiedKFold\n",
    "import numpy\n",
    "\n",
    "# number for CV\n",
    "fold_num = 5 \n",
    "\n",
    "batch_size = 128\n",
    "num_classes = 10\n",
    "epochs = 1\n",
    "\n",
    "# fix random seed for reproducibility\n",
    "seed = 7\n",
    "numpy.random.seed(seed)\n",
    "\n",
    "# load dataset\n",
    "(x_train, y_train), (x_test, y_test) = mnist.load_data()\n",
    "x_train = x_train.reshape(60000, 784)\n",
    "x_test = x_test.reshape(10000, 784)\n",
    "x_train = x_train.astype('float32')\n",
    "x_test = x_test.astype('float32')\n",
    "x_train /= 255\n",
    "x_test /= 255\n",
    "\n",
    "# y_train = keras.utils.to_categorical(y_train, num_classes)\n",
    "y_test = keras.utils.to_categorical(y_test, num_classes)\n",
    "\n",
    "# input data\n",
    "X = x_train\n",
    "Y = y_train\n",
    "\n",
    "\n",
    "# define X-fold cross validation\n",
    "kfold = StratifiedKFold(n_splits=fold_num, shuffle=True, random_state=seed)\n",
    "cvscores = []\n",
    "\n",
    "for train, test in kfold.split(X, Y):\n",
    "    # create model\n",
    "    model = Sequential()\n",
    "    model.add(Dense(512, activation='relu', input_shape=(784,)))\n",
    "    model.add(Dropout(0.2))\n",
    "    model.add(Dense(512, activation='relu'))\n",
    "    model.add(Dropout(0.2))\n",
    "    model.add(Dense(10, activation='softmax'))\n",
    "\n",
    "    model.compile(loss='categorical_crossentropy',\n",
    "              optimizer=RMSprop(),\n",
    "              metrics=['accuracy'])\n",
    "\n",
    "    # Fit the model\n",
    "    model.fit(X[train], keras.utils.to_categorical(Y[train], num_classes),\n",
    "                    batch_size=batch_size,\n",
    "                    epochs=epochs,\n",
    "                    verbose=1)\n",
    "\n",
    "\n",
    "    # Evaluate\n",
    "    scores = model.evaluate(X[test], keras.utils.to_categorical(Y[test], num_classes), verbose=0)\n",
    "    print(\"%s: %.2f%%\" % (model.metrics_names[1], scores[1]*100))\n",
    "    cvscores.append(scores[1] * 100)\n",
    "\n",
    "print(\"%.2f%% (+/- %.2f%%)\" % (numpy.mean(cvscores), numpy.std(cvscores)))"
   ]
  },
  {
   "cell_type": "code",
   "execution_count": 15,
   "metadata": {},
   "outputs": [],
   "source": [
    "from sklearn.svm import SVC"
   ]
  },
  {
   "cell_type": "code",
   "execution_count": 39,
   "metadata": {},
   "outputs": [],
   "source": [
    "x_train=x_train.reshape(len(x_train), -1)\n",
    "x_test=x_test.reshape(len(x_test), -1)"
   ]
  },
  {
   "cell_type": "code",
   "execution_count": 36,
   "metadata": {},
   "outputs": [
    {
     "data": {
      "text/plain": [
       "(700, 16384)"
      ]
     },
     "execution_count": 36,
     "metadata": {},
     "output_type": "execute_result"
    }
   ],
   "source": [
    "x_train.shape"
   ]
  },
  {
   "cell_type": "code",
   "execution_count": 37,
   "metadata": {},
   "outputs": [
    {
     "data": {
      "text/plain": [
       "SVC(C=1.0, cache_size=200, class_weight=None, coef0=0.0,\n",
       "  decision_function_shape='ovr', degree=3, gamma='auto_deprecated',\n",
       "  kernel='rbf', max_iter=-1, probability=False, random_state=None,\n",
       "  shrinking=True, tol=0.001, verbose=False)"
      ]
     },
     "execution_count": 37,
     "metadata": {},
     "output_type": "execute_result"
    }
   ],
   "source": [
    "model = SVC()               # インスタンス生成\n",
    "model.fit(x_train, y_train) # SVM実行"
   ]
  },
  {
   "cell_type": "code",
   "execution_count": 40,
   "metadata": {},
   "outputs": [
    {
     "data": {
      "text/plain": [
       "0.0891089108910891"
      ]
     },
     "execution_count": 40,
     "metadata": {},
     "output_type": "execute_result"
    }
   ],
   "source": [
    "# 予測実行\n",
    "from sklearn import metrics       # 精度検証用\n",
    "predicted = model.predict(x_test) # テストデータへの予測実行\n",
    "metrics.accuracy_score(y_test, predicted)"
   ]
  },
  {
   "cell_type": "code",
   "execution_count": null,
   "metadata": {},
   "outputs": [],
   "source": [
    "#モデルの保存\n",
    "json_string = model.model.to_json()\n",
    "open('predict.json', 'w').write(json_string)\n",
    "\n",
    "#重みの保存\n",
    "\n",
    "hdf5_file = \"predict.hdf5\"\n",
    "model.model.save_weights(hdf5_file)"
   ]
  },
  {
   "cell_type": "code",
   "execution_count": 76,
   "metadata": {},
   "outputs": [
    {
     "ename": "TypeError",
     "evalue": "data type not understood",
     "output_type": "error",
     "traceback": [
      "\u001b[0;31m---------------------------------------------------------------------------\u001b[0m",
      "\u001b[0;31mTypeError\u001b[0m                                 Traceback (most recent call last)",
      "\u001b[0;32m<ipython-input-76-2056a5f82f77>\u001b[0m in \u001b[0;36m<module>\u001b[0;34m\u001b[0m\n\u001b[0;32m----> 1\u001b[0;31m \u001b[0mgosanke\u001b[0m\u001b[0;34m=\u001b[0m\u001b[0mnp\u001b[0m\u001b[0;34m.\u001b[0m\u001b[0mzeros\u001b[0m\u001b[0;34m(\u001b[0m\u001b[0;36m3\u001b[0m\u001b[0;34m,\u001b[0m\u001b[0;36m63\u001b[0m\u001b[0;34m)\u001b[0m\u001b[0;34m\u001b[0m\u001b[0;34m\u001b[0m\u001b[0m\n\u001b[0m\u001b[1;32m      2\u001b[0m \u001b[0mlist\u001b[0m\u001b[0;34m=\u001b[0m\u001b[0;34m[\u001b[0m\u001b[0;36m1\u001b[0m\u001b[0;34m,\u001b[0m \u001b[0;36m152\u001b[0m\u001b[0;34m,\u001b[0m \u001b[0;36m252\u001b[0m\u001b[0;34m,\u001b[0m \u001b[0;36m387\u001b[0m\u001b[0;34m,\u001b[0m \u001b[0;36m496\u001b[0m\u001b[0;34m,\u001b[0m \u001b[0;36m650\u001b[0m\u001b[0;34m,\u001b[0m \u001b[0;36m722\u001b[0m\u001b[0;34m]\u001b[0m\u001b[0;34m\u001b[0m\u001b[0;34m\u001b[0m\u001b[0m\n\u001b[1;32m      3\u001b[0m \u001b[0;32mfor\u001b[0m \u001b[0mi\u001b[0m \u001b[0;32min\u001b[0m \u001b[0mlist\u001b[0m\u001b[0;34m:\u001b[0m\u001b[0;34m\u001b[0m\u001b[0;34m\u001b[0m\u001b[0m\n\u001b[1;32m      4\u001b[0m     \u001b[0;32mfor\u001b[0m \u001b[0mj\u001b[0m \u001b[0;32min\u001b[0m \u001b[0mrange\u001b[0m\u001b[0;34m(\u001b[0m\u001b[0;36m9\u001b[0m\u001b[0;34m)\u001b[0m\u001b[0;34m:\u001b[0m\u001b[0;34m\u001b[0m\u001b[0;34m\u001b[0m\u001b[0m\n\u001b[1;32m      5\u001b[0m         \u001b[0mgosanke\u001b[0m\u001b[0;34m[\u001b[0m\u001b[0mi\u001b[0m\u001b[0;34m+\u001b[0m\u001b[0mj\u001b[0m\u001b[0;34m-\u001b[0m\u001b[0;36m1\u001b[0m\u001b[0;34m]\u001b[0m \u001b[0;34m=\u001b[0m \u001b[0mx\u001b[0m\u001b[0;34m[\u001b[0m\u001b[0mi\u001b[0m\u001b[0;34m+\u001b[0m\u001b[0mj\u001b[0m\u001b[0;34m-\u001b[0m\u001b[0;36m1\u001b[0m\u001b[0;34m]\u001b[0m\u001b[0;34m\u001b[0m\u001b[0;34m\u001b[0m\u001b[0m\n",
      "\u001b[0;31mTypeError\u001b[0m: data type not understood"
     ]
    }
   ],
   "source": [
    "gosanke=np.zeros(3,63)\n",
    "list=[1, 152, 252, 387, 496, 650, 722]\n",
    "for i in list:\n",
    "    for j in range(9):\n",
    "        gosanke[i+j-1] = x[i+j-1]\n",
    "print()\n"
   ]
  },
  {
   "cell_type": "code",
   "execution_count": null,
   "metadata": {},
   "outputs": [],
   "source": []
  },
  {
   "cell_type": "code",
   "execution_count": null,
   "metadata": {},
   "outputs": [],
   "source": []
  }
 ],
 "metadata": {
  "kernelspec": {
   "display_name": "Python 3",
   "language": "python",
   "name": "python3"
  },
  "language_info": {
   "codemirror_mode": {
    "name": "ipython",
    "version": 3
   },
   "file_extension": ".py",
   "mimetype": "text/x-python",
   "name": "python",
   "nbconvert_exporter": "python",
   "pygments_lexer": "ipython3",
   "version": "3.7.3"
  }
 },
 "nbformat": 4,
 "nbformat_minor": 2
}
