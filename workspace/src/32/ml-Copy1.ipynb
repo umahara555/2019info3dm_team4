{
 "cells": [
  {
   "cell_type": "markdown",
   "metadata": {},
   "source": [
    "## 実行環境の確認"
   ]
  },
  {
   "cell_type": "code",
   "execution_count": 1,
   "metadata": {},
   "outputs": [
    {
     "name": "stderr",
     "output_type": "stream",
     "text": [
      "Using TensorFlow backend.\n"
     ]
    },
    {
     "name": "stdout",
     "output_type": "stream",
     "text": [
      "keras=2.2.4\n",
      "tensorflow=1.13.1\n",
      "dask=1.1.4\n"
     ]
    }
   ],
   "source": [
    "import keras\n",
    "import tensorflow as tf\n",
    "import dask\n",
    "\n",
    "import warnings\n",
    "warnings.filterwarnings('ignore')\n",
    "\n",
    "print(\"keras={}\".format(keras.__version__))\n",
    "print(\"tensorflow={}\".format(tf.__version__))\n",
    "print(\"dask={}\".format(dask.__version__))"
   ]
  },
  {
   "cell_type": "markdown",
   "metadata": {},
   "source": [
    "## モジュールのインポート"
   ]
  },
  {
   "cell_type": "code",
   "execution_count": 2,
   "metadata": {},
   "outputs": [],
   "source": [
    "from keras.models import Sequential, Model\n",
    "from keras.layers import Input, Dense"
   ]
  },
  {
   "cell_type": "markdown",
   "metadata": {},
   "source": [
    "## データの読み込み"
   ]
  },
  {
   "cell_type": "code",
   "execution_count": 2,
   "metadata": {},
   "outputs": [],
   "source": [
    "import dataset\n",
    "X,Y = dataset.load_data()"
   ]
  },
  {
   "cell_type": "markdown",
   "metadata": {},
   "source": [
    "## データの可視化"
   ]
  },
  {
   "cell_type": "code",
   "execution_count": 3,
   "metadata": {},
   "outputs": [],
   "source": [
    "import numpy as np\n",
    "from matplotlib import pylab as plt\n",
    "%matplotlib inline"
   ]
  },
  {
   "cell_type": "code",
   "execution_count": 4,
   "metadata": {},
   "outputs": [],
   "source": [
    "types = np.array([\n",
    "        \"Normal\",\n",
    "        \"Fire\",\n",
    "        \"Water\",\n",
    "        \"Electric\",\n",
    "        \"Grass\",\n",
    "        \"Ice\",\n",
    "        \"Fighting\",\n",
    "        \"Poison\",\n",
    "        \"Ground\",\n",
    "        \"Flying\",\n",
    "        \"Psychic\",\n",
    "        \"Bug\",\n",
    "        \"Rock\",\n",
    "        \"Ghost\",\n",
    "        \"Dragon\",\n",
    "        \"Dark\",\n",
    "        \"Steel\",\n",
    "        \"Fairy\"\n",
    "        ])"
   ]
  },
  {
   "cell_type": "code",
   "execution_count": 5,
   "metadata": {},
   "outputs": [
    {
     "ename": "TypeError",
     "evalue": "only integer scalar arrays can be converted to a scalar index",
     "output_type": "error",
     "traceback": [
      "\u001b[0;31m---------------------------------------------------------------------------\u001b[0m",
      "\u001b[0;31mTypeError\u001b[0m                                 Traceback (most recent call last)",
      "\u001b[0;32m<ipython-input-5-70ee7238888d>\u001b[0m in \u001b[0;36m<module>\u001b[0;34m\u001b[0m\n\u001b[1;32m      3\u001b[0m \u001b[0;32mfor\u001b[0m \u001b[0mfor_1\u001b[0m \u001b[0;32min\u001b[0m \u001b[0mrange\u001b[0m\u001b[0;34m(\u001b[0m\u001b[0;36m18\u001b[0m\u001b[0;34m)\u001b[0m\u001b[0;34m:\u001b[0m\u001b[0;34m\u001b[0m\u001b[0;34m\u001b[0m\u001b[0m\n\u001b[1;32m      4\u001b[0m     \u001b[0mchoice_idx\u001b[0m \u001b[0;34m=\u001b[0m \u001b[0mnp\u001b[0m\u001b[0;34m.\u001b[0m\u001b[0mrandom\u001b[0m\u001b[0;34m.\u001b[0m\u001b[0mchoice\u001b[0m\u001b[0;34m(\u001b[0m\u001b[0mnp\u001b[0m\u001b[0;34m.\u001b[0m\u001b[0mwhere\u001b[0m\u001b[0;34m(\u001b[0m\u001b[0mY\u001b[0m\u001b[0;34m[\u001b[0m\u001b[0;36m0\u001b[0m\u001b[0;34m]\u001b[0m \u001b[0;34m==\u001b[0m \u001b[0mfor_1\u001b[0m\u001b[0;34m)\u001b[0m\u001b[0;34m[\u001b[0m\u001b[0;36m0\u001b[0m\u001b[0;34m]\u001b[0m\u001b[0;34m,\u001b[0m \u001b[0;36m10\u001b[0m\u001b[0;34m)\u001b[0m\u001b[0;34m\u001b[0m\u001b[0;34m\u001b[0m\u001b[0m\n\u001b[0;32m----> 5\u001b[0;31m     \u001b[0mimg_list\u001b[0m\u001b[0;34m.\u001b[0m\u001b[0mappend\u001b[0m\u001b[0;34m(\u001b[0m\u001b[0mX\u001b[0m\u001b[0;34m[\u001b[0m\u001b[0mchoice_idx\u001b[0m\u001b[0;34m]\u001b[0m\u001b[0;34m)\u001b[0m\u001b[0;34m\u001b[0m\u001b[0;34m\u001b[0m\u001b[0m\n\u001b[0m",
      "\u001b[0;31mTypeError\u001b[0m: only integer scalar arrays can be converted to a scalar index"
     ]
    }
   ],
   "source": [
    "# 各ラベルごとに画像を10枚格納\n",
    "img_list = []\n",
    "for for_1 in range(18):\n",
    "    choice_idx = np.random.choice(np.where(Y[0] == for_1)[0], 10)\n",
    "    img_list.append(X[choice_idx])"
   ]
  },
  {
   "cell_type": "code",
   "execution_count": 7,
   "metadata": {},
   "outputs": [],
   "source": [
    "# データの可視化\n",
    "# for for_1 in range(18):\n",
    "#     fig, ax = plt.subplots(1, 10, figsize=(18, 8))\n",
    "#     for for_2 in range(10):\n",
    "#         ax[for_2].imshow(img_list[for_1][for_2].reshape(215, 215, 4))\n",
    "#         ax[for_2].set_title(types[for_1])\n",
    "#         ax[for_2].axis('off')"
   ]
  },
  {
   "cell_type": "markdown",
   "metadata": {},
   "source": [
    "## データの前処理"
   ]
  },
  {
   "cell_type": "code",
   "execution_count": 8,
   "metadata": {},
   "outputs": [],
   "source": [
    "X = X[:801]\n",
    "type1 = Y[:801]\n",
    "type2 = Y[801:]\n",
    "\n",
    "X_train = X[:721]\n",
    "y_train1 = type1[:721]\n",
    "y_train2 = type2[:721]\n",
    "\n",
    "X_test = X[721:]\n",
    "y_test1 = type1[721:]\n",
    "y_test2 = type2[721:]"
   ]
  },
  {
   "cell_type": "code",
   "execution_count": 9,
   "metadata": {},
   "outputs": [],
   "source": [
    "img_rows, img_cols = 215,215\n",
    "img_channels = 4"
   ]
  },
  {
   "cell_type": "code",
   "execution_count": 10,
   "metadata": {},
   "outputs": [],
   "source": [
    "X_train = X_train.astype('float32') / 255.\n",
    "X_test = X_test.astype('float32') / 255."
   ]
  },
  {
   "cell_type": "code",
   "execution_count": 11,
   "metadata": {},
   "outputs": [],
   "source": [
    "nb_classes = 18 # 正解のパターン数"
   ]
  },
  {
   "cell_type": "code",
   "execution_count": 12,
   "metadata": {},
   "outputs": [],
   "source": [
    "from keras.utils import np_utils\n",
    "# クラスベクトルをバイナリクラスの行列に変換する\n",
    "Y_train1 = np_utils.to_categorical(y_train1, nb_classes)\n",
    "Y_train2 = np_utils.to_categorical(y_train2, nb_classes)\n",
    "Y_test1 = np_utils.to_categorical(y_test1, nb_classes)\n",
    "Y_test2 = np_utils.to_categorical(y_test2, nb_classes)"
   ]
  },
  {
   "cell_type": "code",
   "execution_count": 13,
   "metadata": {},
   "outputs": [
    {
     "name": "stdout",
     "output_type": "stream",
     "text": [
      "4\n",
      "7\n"
     ]
    }
   ],
   "source": [
    "# クラスベクトル(ここでは一枚目の正解値は4と7)\n",
    "print(y_train1[0])\n",
    "print(y_train2[0])"
   ]
  },
  {
   "cell_type": "code",
   "execution_count": 14,
   "metadata": {},
   "outputs": [
    {
     "name": "stdout",
     "output_type": "stream",
     "text": [
      "[0. 1. 0. 0. 0. 0. 0. 0. 0. 0. 0. 0. 0. 0. 0. 0. 0. 0.]\n",
      "[0. 1. 0. 0. 0. 0. 0. 0. 0. 0. 0. 0. 0. 0. 0. 0. 0. 0.]\n"
     ]
    }
   ],
   "source": [
    "# バイナリクラスの行列\n",
    "print(Y_train1[4])\n",
    "print(Y_train2[4])"
   ]
  },
  {
   "cell_type": "code",
   "execution_count": 15,
   "metadata": {},
   "outputs": [],
   "source": [
    "# backendの違いによる次元数の入力型の調整(おまじない)\n",
    "from keras import backend as K\n",
    "\n",
    "if K.image_data_format() == 'channels_first':\n",
    "    X_train = X_train.reshape(X_train.shape[0], img_channels, img_rows, img_cols)\n",
    "    X_test = X_test.reshape(X_test.shape[0], img_channels, img_rows, img_cols)\n",
    "    input_shape = (img_channels, img_rows, img_cols)\n",
    "else:\n",
    "    X_train = X_train.reshape(X_train.shape[0], img_rows, img_cols, img_channels)\n",
    "    X_test = X_test.reshape(X_test.shape[0], img_rows, img_cols, img_channels)\n",
    "    input_shape = (img_rows, img_cols, img_channels)"
   ]
  },
  {
   "cell_type": "markdown",
   "metadata": {},
   "source": [
    "## モデルの構築"
   ]
  },
  {
   "cell_type": "code",
   "execution_count": 16,
   "metadata": {},
   "outputs": [],
   "source": [
    "from keras.layers import Dropout,Flatten,Conv2D,MaxPooling2D,Conv1D"
   ]
  },
  {
   "cell_type": "code",
   "execution_count": 17,
   "metadata": {},
   "outputs": [
    {
     "name": "stdout",
     "output_type": "stream",
     "text": [
      "WARNING:tensorflow:From /opt/conda/lib/python3.7/site-packages/tensorflow/python/framework/op_def_library.py:263: colocate_with (from tensorflow.python.framework.ops) is deprecated and will be removed in a future version.\n",
      "Instructions for updating:\n",
      "Colocations handled automatically by placer.\n",
      "WARNING:tensorflow:From /opt/conda/lib/python3.7/site-packages/keras/backend/tensorflow_backend.py:3445: calling dropout (from tensorflow.python.ops.nn_ops) with keep_prob is deprecated and will be removed in a future version.\n",
      "Instructions for updating:\n",
      "Please use `rate` instead of `keep_prob`. Rate should be set to `rate = 1 - keep_prob`.\n"
     ]
    }
   ],
   "source": [
    "input_layer = Input(shape=input_shape)\n",
    "\n",
    "m = Conv2D(64, kernel_size=(3, 3), padding='same', activation=\"relu\")(input_layer)\n",
    "\n",
    "m = Conv2D(128, kernel_size=(3, 3), padding='same', activation=\"relu\")(m)\n",
    "m = MaxPooling2D(pool_size=(2,2))(m)\n",
    "m = Conv2D(128, kernel_size=(3, 3), padding='same', activation=\"relu\")(m)\n",
    "m = MaxPooling2D(pool_size=(2,2))(m)\n",
    "m = Flatten()(m)\n",
    "m = Dense(1024, activation='relu')(m)\n",
    "m = Dropout(0.5)(m)\n",
    "output_layer1 = Dense(nb_classes, activation='softmax', name='type1_output')(m)\n",
    "output_layer2 = Dense(nb_classes, activation='softmax', name='type2_output')(m)\n",
    "\n",
    "model = Model(inputs=input_layer, outputs=[output_layer1, output_layer2])"
   ]
  },
  {
   "cell_type": "code",
   "execution_count": 18,
   "metadata": {},
   "outputs": [
    {
     "name": "stdout",
     "output_type": "stream",
     "text": [
      "__________________________________________________________________________________________________\n",
      "Layer (type)                    Output Shape         Param #     Connected to                     \n",
      "==================================================================================================\n",
      "input_1 (InputLayer)            (None, 215, 215, 4)  0                                            \n",
      "__________________________________________________________________________________________________\n",
      "conv2d_1 (Conv2D)               (None, 215, 215, 64) 2368        input_1[0][0]                    \n",
      "__________________________________________________________________________________________________\n",
      "max_pooling2d_1 (MaxPooling2D)  (None, 107, 107, 64) 0           conv2d_1[0][0]                   \n",
      "__________________________________________________________________________________________________\n",
      "conv2d_2 (Conv2D)               (None, 107, 107, 128 73856       max_pooling2d_1[0][0]            \n",
      "__________________________________________________________________________________________________\n",
      "max_pooling2d_2 (MaxPooling2D)  (None, 53, 53, 128)  0           conv2d_2[0][0]                   \n",
      "__________________________________________________________________________________________________\n",
      "conv2d_3 (Conv2D)               (None, 53, 53, 128)  147584      max_pooling2d_2[0][0]            \n",
      "__________________________________________________________________________________________________\n",
      "max_pooling2d_3 (MaxPooling2D)  (None, 26, 26, 128)  0           conv2d_3[0][0]                   \n",
      "__________________________________________________________________________________________________\n",
      "flatten_1 (Flatten)             (None, 86528)        0           max_pooling2d_3[0][0]            \n",
      "__________________________________________________________________________________________________\n",
      "dense_1 (Dense)                 (None, 1024)         88605696    flatten_1[0][0]                  \n",
      "__________________________________________________________________________________________________\n",
      "dropout_1 (Dropout)             (None, 1024)         0           dense_1[0][0]                    \n",
      "__________________________________________________________________________________________________\n",
      "type1_output (Dense)            (None, 18)           18450       dropout_1[0][0]                  \n",
      "__________________________________________________________________________________________________\n",
      "type2_output (Dense)            (None, 18)           18450       dropout_1[0][0]                  \n",
      "==================================================================================================\n",
      "Total params: 88,866,404\n",
      "Trainable params: 88,866,404\n",
      "Non-trainable params: 0\n",
      "__________________________________________________________________________________________________\n"
     ]
    }
   ],
   "source": [
    "model.summary()"
   ]
  },
  {
   "cell_type": "code",
   "execution_count": 19,
   "metadata": {},
   "outputs": [
    {
     "data": {
      "image/svg+xml": [
       "<svg height=\"885pt\" viewBox=\"0.00 0.00 712.00 885.00\" width=\"712pt\" xmlns=\"http://www.w3.org/2000/svg\" xmlns:xlink=\"http://www.w3.org/1999/xlink\">\n",
       "<g class=\"graph\" id=\"graph0\" transform=\"scale(1 1) rotate(0) translate(4 881)\">\n",
       "<title>G</title>\n",
       "<polygon fill=\"#ffffff\" points=\"-4,4 -4,-881 708,-881 708,4 -4,4\" stroke=\"transparent\"/>\n",
       "<!-- 140362018268552 -->\n",
       "<g class=\"node\" id=\"node1\">\n",
       "<title>140362018268552</title>\n",
       "<polygon fill=\"none\" points=\"160,-830.5 160,-876.5 543,-876.5 543,-830.5 160,-830.5\" stroke=\"#000000\"/>\n",
       "<text fill=\"#000000\" font-family=\"Times,serif\" font-size=\"14.00\" text-anchor=\"middle\" x=\"240\" y=\"-849.8\">input_1: InputLayer</text>\n",
       "<polyline fill=\"none\" points=\"320,-830.5 320,-876.5 \" stroke=\"#000000\"/>\n",
       "<text fill=\"#000000\" font-family=\"Times,serif\" font-size=\"14.00\" text-anchor=\"middle\" x=\"354\" y=\"-861.3\">input:</text>\n",
       "<polyline fill=\"none\" points=\"320,-853.5 388,-853.5 \" stroke=\"#000000\"/>\n",
       "<text fill=\"#000000\" font-family=\"Times,serif\" font-size=\"14.00\" text-anchor=\"middle\" x=\"354\" y=\"-838.3\">output:</text>\n",
       "<polyline fill=\"none\" points=\"388,-830.5 388,-876.5 \" stroke=\"#000000\"/>\n",
       "<text fill=\"#000000\" font-family=\"Times,serif\" font-size=\"14.00\" text-anchor=\"middle\" x=\"465.5\" y=\"-861.3\">(None, 215, 215, 4)</text>\n",
       "<polyline fill=\"none\" points=\"388,-853.5 543,-853.5 \" stroke=\"#000000\"/>\n",
       "<text fill=\"#000000\" font-family=\"Times,serif\" font-size=\"14.00\" text-anchor=\"middle\" x=\"465.5\" y=\"-838.3\">(None, 215, 215, 4)</text>\n",
       "</g>\n",
       "<!-- 140362018268496 -->\n",
       "<g class=\"node\" id=\"node2\">\n",
       "<title>140362018268496</title>\n",
       "<polygon fill=\"none\" points=\"160,-747.5 160,-793.5 543,-793.5 543,-747.5 160,-747.5\" stroke=\"#000000\"/>\n",
       "<text fill=\"#000000\" font-family=\"Times,serif\" font-size=\"14.00\" text-anchor=\"middle\" x=\"235.5\" y=\"-766.8\">conv2d_1: Conv2D</text>\n",
       "<polyline fill=\"none\" points=\"311,-747.5 311,-793.5 \" stroke=\"#000000\"/>\n",
       "<text fill=\"#000000\" font-family=\"Times,serif\" font-size=\"14.00\" text-anchor=\"middle\" x=\"345\" y=\"-778.3\">input:</text>\n",
       "<polyline fill=\"none\" points=\"311,-770.5 379,-770.5 \" stroke=\"#000000\"/>\n",
       "<text fill=\"#000000\" font-family=\"Times,serif\" font-size=\"14.00\" text-anchor=\"middle\" x=\"345\" y=\"-755.3\">output:</text>\n",
       "<polyline fill=\"none\" points=\"379,-747.5 379,-793.5 \" stroke=\"#000000\"/>\n",
       "<text fill=\"#000000\" font-family=\"Times,serif\" font-size=\"14.00\" text-anchor=\"middle\" x=\"461\" y=\"-778.3\">(None, 215, 215, 4)</text>\n",
       "<polyline fill=\"none\" points=\"379,-770.5 543,-770.5 \" stroke=\"#000000\"/>\n",
       "<text fill=\"#000000\" font-family=\"Times,serif\" font-size=\"14.00\" text-anchor=\"middle\" x=\"461\" y=\"-755.3\">(None, 215, 215, 64)</text>\n",
       "</g>\n",
       "<!-- 140362018268552&#45;&gt;140362018268496 -->\n",
       "<g class=\"edge\" id=\"edge1\">\n",
       "<title>140362018268552-&gt;140362018268496</title>\n",
       "<path d=\"M351.5,-830.3799C351.5,-822.1745 351.5,-812.7679 351.5,-803.8786\" fill=\"none\" stroke=\"#000000\"/>\n",
       "<polygon fill=\"#000000\" points=\"355.0001,-803.784 351.5,-793.784 348.0001,-803.784 355.0001,-803.784\" stroke=\"#000000\"/>\n",
       "</g>\n",
       "<!-- 140362018269336 -->\n",
       "<g class=\"node\" id=\"node3\">\n",
       "<title>140362018269336</title>\n",
       "<polygon fill=\"none\" points=\"108.5,-664.5 108.5,-710.5 594.5,-710.5 594.5,-664.5 108.5,-664.5\" stroke=\"#000000\"/>\n",
       "<text fill=\"#000000\" font-family=\"Times,serif\" font-size=\"14.00\" text-anchor=\"middle\" x=\"235.5\" y=\"-683.8\">max_pooling2d_1: MaxPooling2D</text>\n",
       "<polyline fill=\"none\" points=\"362.5,-664.5 362.5,-710.5 \" stroke=\"#000000\"/>\n",
       "<text fill=\"#000000\" font-family=\"Times,serif\" font-size=\"14.00\" text-anchor=\"middle\" x=\"396.5\" y=\"-695.3\">input:</text>\n",
       "<polyline fill=\"none\" points=\"362.5,-687.5 430.5,-687.5 \" stroke=\"#000000\"/>\n",
       "<text fill=\"#000000\" font-family=\"Times,serif\" font-size=\"14.00\" text-anchor=\"middle\" x=\"396.5\" y=\"-672.3\">output:</text>\n",
       "<polyline fill=\"none\" points=\"430.5,-664.5 430.5,-710.5 \" stroke=\"#000000\"/>\n",
       "<text fill=\"#000000\" font-family=\"Times,serif\" font-size=\"14.00\" text-anchor=\"middle\" x=\"512.5\" y=\"-695.3\">(None, 215, 215, 64)</text>\n",
       "<polyline fill=\"none\" points=\"430.5,-687.5 594.5,-687.5 \" stroke=\"#000000\"/>\n",
       "<text fill=\"#000000\" font-family=\"Times,serif\" font-size=\"14.00\" text-anchor=\"middle\" x=\"512.5\" y=\"-672.3\">(None, 107, 107, 64)</text>\n",
       "</g>\n",
       "<!-- 140362018268496&#45;&gt;140362018269336 -->\n",
       "<g class=\"edge\" id=\"edge2\">\n",
       "<title>140362018268496-&gt;140362018269336</title>\n",
       "<path d=\"M351.5,-747.3799C351.5,-739.1745 351.5,-729.7679 351.5,-720.8786\" fill=\"none\" stroke=\"#000000\"/>\n",
       "<polygon fill=\"#000000\" points=\"355.0001,-720.784 351.5,-710.784 348.0001,-720.784 355.0001,-720.784\" stroke=\"#000000\"/>\n",
       "</g>\n",
       "<!-- 140362018270456 -->\n",
       "<g class=\"node\" id=\"node4\">\n",
       "<title>140362018270456</title>\n",
       "<polygon fill=\"none\" points=\"155.5,-581.5 155.5,-627.5 547.5,-627.5 547.5,-581.5 155.5,-581.5\" stroke=\"#000000\"/>\n",
       "<text fill=\"#000000\" font-family=\"Times,serif\" font-size=\"14.00\" text-anchor=\"middle\" x=\"231\" y=\"-600.8\">conv2d_2: Conv2D</text>\n",
       "<polyline fill=\"none\" points=\"306.5,-581.5 306.5,-627.5 \" stroke=\"#000000\"/>\n",
       "<text fill=\"#000000\" font-family=\"Times,serif\" font-size=\"14.00\" text-anchor=\"middle\" x=\"340.5\" y=\"-612.3\">input:</text>\n",
       "<polyline fill=\"none\" points=\"306.5,-604.5 374.5,-604.5 \" stroke=\"#000000\"/>\n",
       "<text fill=\"#000000\" font-family=\"Times,serif\" font-size=\"14.00\" text-anchor=\"middle\" x=\"340.5\" y=\"-589.3\">output:</text>\n",
       "<polyline fill=\"none\" points=\"374.5,-581.5 374.5,-627.5 \" stroke=\"#000000\"/>\n",
       "<text fill=\"#000000\" font-family=\"Times,serif\" font-size=\"14.00\" text-anchor=\"middle\" x=\"461\" y=\"-612.3\">(None, 107, 107, 64)</text>\n",
       "<polyline fill=\"none\" points=\"374.5,-604.5 547.5,-604.5 \" stroke=\"#000000\"/>\n",
       "<text fill=\"#000000\" font-family=\"Times,serif\" font-size=\"14.00\" text-anchor=\"middle\" x=\"461\" y=\"-589.3\">(None, 107, 107, 128)</text>\n",
       "</g>\n",
       "<!-- 140362018269336&#45;&gt;140362018270456 -->\n",
       "<g class=\"edge\" id=\"edge3\">\n",
       "<title>140362018269336-&gt;140362018270456</title>\n",
       "<path d=\"M351.5,-664.3799C351.5,-656.1745 351.5,-646.7679 351.5,-637.8786\" fill=\"none\" stroke=\"#000000\"/>\n",
       "<polygon fill=\"#000000\" points=\"355.0001,-637.784 351.5,-627.784 348.0001,-637.784 355.0001,-637.784\" stroke=\"#000000\"/>\n",
       "</g>\n",
       "<!-- 140362018270176 -->\n",
       "<g class=\"node\" id=\"node5\">\n",
       "<title>140362018270176</title>\n",
       "<polygon fill=\"none\" points=\"104,-498.5 104,-544.5 599,-544.5 599,-498.5 104,-498.5\" stroke=\"#000000\"/>\n",
       "<text fill=\"#000000\" font-family=\"Times,serif\" font-size=\"14.00\" text-anchor=\"middle\" x=\"231\" y=\"-517.8\">max_pooling2d_2: MaxPooling2D</text>\n",
       "<polyline fill=\"none\" points=\"358,-498.5 358,-544.5 \" stroke=\"#000000\"/>\n",
       "<text fill=\"#000000\" font-family=\"Times,serif\" font-size=\"14.00\" text-anchor=\"middle\" x=\"392\" y=\"-529.3\">input:</text>\n",
       "<polyline fill=\"none\" points=\"358,-521.5 426,-521.5 \" stroke=\"#000000\"/>\n",
       "<text fill=\"#000000\" font-family=\"Times,serif\" font-size=\"14.00\" text-anchor=\"middle\" x=\"392\" y=\"-506.3\">output:</text>\n",
       "<polyline fill=\"none\" points=\"426,-498.5 426,-544.5 \" stroke=\"#000000\"/>\n",
       "<text fill=\"#000000\" font-family=\"Times,serif\" font-size=\"14.00\" text-anchor=\"middle\" x=\"512.5\" y=\"-529.3\">(None, 107, 107, 128)</text>\n",
       "<polyline fill=\"none\" points=\"426,-521.5 599,-521.5 \" stroke=\"#000000\"/>\n",
       "<text fill=\"#000000\" font-family=\"Times,serif\" font-size=\"14.00\" text-anchor=\"middle\" x=\"512.5\" y=\"-506.3\">(None, 53, 53, 128)</text>\n",
       "</g>\n",
       "<!-- 140362018270456&#45;&gt;140362018270176 -->\n",
       "<g class=\"edge\" id=\"edge4\">\n",
       "<title>140362018270456-&gt;140362018270176</title>\n",
       "<path d=\"M351.5,-581.3799C351.5,-573.1745 351.5,-563.7679 351.5,-554.8786\" fill=\"none\" stroke=\"#000000\"/>\n",
       "<polygon fill=\"#000000\" points=\"355.0001,-554.784 351.5,-544.784 348.0001,-554.784 355.0001,-554.784\" stroke=\"#000000\"/>\n",
       "</g>\n",
       "<!-- 140362017937168 -->\n",
       "<g class=\"node\" id=\"node6\">\n",
       "<title>140362017937168</title>\n",
       "<polygon fill=\"none\" points=\"164.5,-415.5 164.5,-461.5 538.5,-461.5 538.5,-415.5 164.5,-415.5\" stroke=\"#000000\"/>\n",
       "<text fill=\"#000000\" font-family=\"Times,serif\" font-size=\"14.00\" text-anchor=\"middle\" x=\"240\" y=\"-434.8\">conv2d_3: Conv2D</text>\n",
       "<polyline fill=\"none\" points=\"315.5,-415.5 315.5,-461.5 \" stroke=\"#000000\"/>\n",
       "<text fill=\"#000000\" font-family=\"Times,serif\" font-size=\"14.00\" text-anchor=\"middle\" x=\"349.5\" y=\"-446.3\">input:</text>\n",
       "<polyline fill=\"none\" points=\"315.5,-438.5 383.5,-438.5 \" stroke=\"#000000\"/>\n",
       "<text fill=\"#000000\" font-family=\"Times,serif\" font-size=\"14.00\" text-anchor=\"middle\" x=\"349.5\" y=\"-423.3\">output:</text>\n",
       "<polyline fill=\"none\" points=\"383.5,-415.5 383.5,-461.5 \" stroke=\"#000000\"/>\n",
       "<text fill=\"#000000\" font-family=\"Times,serif\" font-size=\"14.00\" text-anchor=\"middle\" x=\"461\" y=\"-446.3\">(None, 53, 53, 128)</text>\n",
       "<polyline fill=\"none\" points=\"383.5,-438.5 538.5,-438.5 \" stroke=\"#000000\"/>\n",
       "<text fill=\"#000000\" font-family=\"Times,serif\" font-size=\"14.00\" text-anchor=\"middle\" x=\"461\" y=\"-423.3\">(None, 53, 53, 128)</text>\n",
       "</g>\n",
       "<!-- 140362018270176&#45;&gt;140362017937168 -->\n",
       "<g class=\"edge\" id=\"edge5\">\n",
       "<title>140362018270176-&gt;140362017937168</title>\n",
       "<path d=\"M351.5,-498.3799C351.5,-490.1745 351.5,-480.7679 351.5,-471.8786\" fill=\"none\" stroke=\"#000000\"/>\n",
       "<polygon fill=\"#000000\" points=\"355.0001,-471.784 351.5,-461.784 348.0001,-471.784 355.0001,-471.784\" stroke=\"#000000\"/>\n",
       "</g>\n",
       "<!-- 140362017937112 -->\n",
       "<g class=\"node\" id=\"node7\">\n",
       "<title>140362017937112</title>\n",
       "<polygon fill=\"none\" points=\"113,-332.5 113,-378.5 590,-378.5 590,-332.5 113,-332.5\" stroke=\"#000000\"/>\n",
       "<text fill=\"#000000\" font-family=\"Times,serif\" font-size=\"14.00\" text-anchor=\"middle\" x=\"240\" y=\"-351.8\">max_pooling2d_3: MaxPooling2D</text>\n",
       "<polyline fill=\"none\" points=\"367,-332.5 367,-378.5 \" stroke=\"#000000\"/>\n",
       "<text fill=\"#000000\" font-family=\"Times,serif\" font-size=\"14.00\" text-anchor=\"middle\" x=\"401\" y=\"-363.3\">input:</text>\n",
       "<polyline fill=\"none\" points=\"367,-355.5 435,-355.5 \" stroke=\"#000000\"/>\n",
       "<text fill=\"#000000\" font-family=\"Times,serif\" font-size=\"14.00\" text-anchor=\"middle\" x=\"401\" y=\"-340.3\">output:</text>\n",
       "<polyline fill=\"none\" points=\"435,-332.5 435,-378.5 \" stroke=\"#000000\"/>\n",
       "<text fill=\"#000000\" font-family=\"Times,serif\" font-size=\"14.00\" text-anchor=\"middle\" x=\"512.5\" y=\"-363.3\">(None, 53, 53, 128)</text>\n",
       "<polyline fill=\"none\" points=\"435,-355.5 590,-355.5 \" stroke=\"#000000\"/>\n",
       "<text fill=\"#000000\" font-family=\"Times,serif\" font-size=\"14.00\" text-anchor=\"middle\" x=\"512.5\" y=\"-340.3\">(None, 26, 26, 128)</text>\n",
       "</g>\n",
       "<!-- 140362017937168&#45;&gt;140362017937112 -->\n",
       "<g class=\"edge\" id=\"edge6\">\n",
       "<title>140362017937168-&gt;140362017937112</title>\n",
       "<path d=\"M351.5,-415.3799C351.5,-407.1745 351.5,-397.7679 351.5,-388.8786\" fill=\"none\" stroke=\"#000000\"/>\n",
       "<polygon fill=\"#000000\" points=\"355.0001,-388.784 351.5,-378.784 348.0001,-388.784 355.0001,-388.784\" stroke=\"#000000\"/>\n",
       "</g>\n",
       "<!-- 140362017677832 -->\n",
       "<g class=\"node\" id=\"node8\">\n",
       "<title>140362017677832</title>\n",
       "<polygon fill=\"none\" points=\"169.5,-249.5 169.5,-295.5 533.5,-295.5 533.5,-249.5 169.5,-249.5\" stroke=\"#000000\"/>\n",
       "<text fill=\"#000000\" font-family=\"Times,serif\" font-size=\"14.00\" text-anchor=\"middle\" x=\"240\" y=\"-268.8\">flatten_1: Flatten</text>\n",
       "<polyline fill=\"none\" points=\"310.5,-249.5 310.5,-295.5 \" stroke=\"#000000\"/>\n",
       "<text fill=\"#000000\" font-family=\"Times,serif\" font-size=\"14.00\" text-anchor=\"middle\" x=\"344.5\" y=\"-280.3\">input:</text>\n",
       "<polyline fill=\"none\" points=\"310.5,-272.5 378.5,-272.5 \" stroke=\"#000000\"/>\n",
       "<text fill=\"#000000\" font-family=\"Times,serif\" font-size=\"14.00\" text-anchor=\"middle\" x=\"344.5\" y=\"-257.3\">output:</text>\n",
       "<polyline fill=\"none\" points=\"378.5,-249.5 378.5,-295.5 \" stroke=\"#000000\"/>\n",
       "<text fill=\"#000000\" font-family=\"Times,serif\" font-size=\"14.00\" text-anchor=\"middle\" x=\"456\" y=\"-280.3\">(None, 26, 26, 128)</text>\n",
       "<polyline fill=\"none\" points=\"378.5,-272.5 533.5,-272.5 \" stroke=\"#000000\"/>\n",
       "<text fill=\"#000000\" font-family=\"Times,serif\" font-size=\"14.00\" text-anchor=\"middle\" x=\"456\" y=\"-257.3\">(None, 86528)</text>\n",
       "</g>\n",
       "<!-- 140362017937112&#45;&gt;140362017677832 -->\n",
       "<g class=\"edge\" id=\"edge7\">\n",
       "<title>140362017937112-&gt;140362017677832</title>\n",
       "<path d=\"M351.5,-332.3799C351.5,-324.1745 351.5,-314.7679 351.5,-305.8786\" fill=\"none\" stroke=\"#000000\"/>\n",
       "<polygon fill=\"#000000\" points=\"355.0001,-305.784 351.5,-295.784 348.0001,-305.784 355.0001,-305.784\" stroke=\"#000000\"/>\n",
       "</g>\n",
       "<!-- 140362017679512 -->\n",
       "<g class=\"node\" id=\"node9\">\n",
       "<title>140362017679512</title>\n",
       "<polygon fill=\"none\" points=\"194,-166.5 194,-212.5 509,-212.5 509,-166.5 194,-166.5\" stroke=\"#000000\"/>\n",
       "<text fill=\"#000000\" font-family=\"Times,serif\" font-size=\"14.00\" text-anchor=\"middle\" x=\"258\" y=\"-185.8\">dense_1: Dense</text>\n",
       "<polyline fill=\"none\" points=\"322,-166.5 322,-212.5 \" stroke=\"#000000\"/>\n",
       "<text fill=\"#000000\" font-family=\"Times,serif\" font-size=\"14.00\" text-anchor=\"middle\" x=\"356\" y=\"-197.3\">input:</text>\n",
       "<polyline fill=\"none\" points=\"322,-189.5 390,-189.5 \" stroke=\"#000000\"/>\n",
       "<text fill=\"#000000\" font-family=\"Times,serif\" font-size=\"14.00\" text-anchor=\"middle\" x=\"356\" y=\"-174.3\">output:</text>\n",
       "<polyline fill=\"none\" points=\"390,-166.5 390,-212.5 \" stroke=\"#000000\"/>\n",
       "<text fill=\"#000000\" font-family=\"Times,serif\" font-size=\"14.00\" text-anchor=\"middle\" x=\"449.5\" y=\"-197.3\">(None, 86528)</text>\n",
       "<polyline fill=\"none\" points=\"390,-189.5 509,-189.5 \" stroke=\"#000000\"/>\n",
       "<text fill=\"#000000\" font-family=\"Times,serif\" font-size=\"14.00\" text-anchor=\"middle\" x=\"449.5\" y=\"-174.3\">(None, 1024)</text>\n",
       "</g>\n",
       "<!-- 140362017677832&#45;&gt;140362017679512 -->\n",
       "<g class=\"edge\" id=\"edge8\">\n",
       "<title>140362017677832-&gt;140362017679512</title>\n",
       "<path d=\"M351.5,-249.3799C351.5,-241.1745 351.5,-231.7679 351.5,-222.8786\" fill=\"none\" stroke=\"#000000\"/>\n",
       "<polygon fill=\"#000000\" points=\"355.0001,-222.784 351.5,-212.784 348.0001,-222.784 355.0001,-222.784\" stroke=\"#000000\"/>\n",
       "</g>\n",
       "<!-- 140362017781240 -->\n",
       "<g class=\"node\" id=\"node10\">\n",
       "<title>140362017781240</title>\n",
       "<polygon fill=\"none\" points=\"184,-83.5 184,-129.5 519,-129.5 519,-83.5 184,-83.5\" stroke=\"#000000\"/>\n",
       "<text fill=\"#000000\" font-family=\"Times,serif\" font-size=\"14.00\" text-anchor=\"middle\" x=\"262.5\" y=\"-102.8\">dropout_1: Dropout</text>\n",
       "<polyline fill=\"none\" points=\"341,-83.5 341,-129.5 \" stroke=\"#000000\"/>\n",
       "<text fill=\"#000000\" font-family=\"Times,serif\" font-size=\"14.00\" text-anchor=\"middle\" x=\"375\" y=\"-114.3\">input:</text>\n",
       "<polyline fill=\"none\" points=\"341,-106.5 409,-106.5 \" stroke=\"#000000\"/>\n",
       "<text fill=\"#000000\" font-family=\"Times,serif\" font-size=\"14.00\" text-anchor=\"middle\" x=\"375\" y=\"-91.3\">output:</text>\n",
       "<polyline fill=\"none\" points=\"409,-83.5 409,-129.5 \" stroke=\"#000000\"/>\n",
       "<text fill=\"#000000\" font-family=\"Times,serif\" font-size=\"14.00\" text-anchor=\"middle\" x=\"464\" y=\"-114.3\">(None, 1024)</text>\n",
       "<polyline fill=\"none\" points=\"409,-106.5 519,-106.5 \" stroke=\"#000000\"/>\n",
       "<text fill=\"#000000\" font-family=\"Times,serif\" font-size=\"14.00\" text-anchor=\"middle\" x=\"464\" y=\"-91.3\">(None, 1024)</text>\n",
       "</g>\n",
       "<!-- 140362017679512&#45;&gt;140362017781240 -->\n",
       "<g class=\"edge\" id=\"edge9\">\n",
       "<title>140362017679512-&gt;140362017781240</title>\n",
       "<path d=\"M351.5,-166.3799C351.5,-158.1745 351.5,-148.7679 351.5,-139.8786\" fill=\"none\" stroke=\"#000000\"/>\n",
       "<polygon fill=\"#000000\" points=\"355.0001,-139.784 351.5,-129.784 348.0001,-139.784 355.0001,-139.784\" stroke=\"#000000\"/>\n",
       "</g>\n",
       "<!-- 140362017354696 -->\n",
       "<g class=\"node\" id=\"node11\">\n",
       "<title>140362017354696</title>\n",
       "<polygon fill=\"none\" points=\"0,-.5 0,-46.5 343,-46.5 343,-.5 0,-.5\" stroke=\"#000000\"/>\n",
       "<text fill=\"#000000\" font-family=\"Times,serif\" font-size=\"14.00\" text-anchor=\"middle\" x=\"82.5\" y=\"-19.8\">type1_output: Dense</text>\n",
       "<polyline fill=\"none\" points=\"165,-.5 165,-46.5 \" stroke=\"#000000\"/>\n",
       "<text fill=\"#000000\" font-family=\"Times,serif\" font-size=\"14.00\" text-anchor=\"middle\" x=\"199\" y=\"-31.3\">input:</text>\n",
       "<polyline fill=\"none\" points=\"165,-23.5 233,-23.5 \" stroke=\"#000000\"/>\n",
       "<text fill=\"#000000\" font-family=\"Times,serif\" font-size=\"14.00\" text-anchor=\"middle\" x=\"199\" y=\"-8.3\">output:</text>\n",
       "<polyline fill=\"none\" points=\"233,-.5 233,-46.5 \" stroke=\"#000000\"/>\n",
       "<text fill=\"#000000\" font-family=\"Times,serif\" font-size=\"14.00\" text-anchor=\"middle\" x=\"288\" y=\"-31.3\">(None, 1024)</text>\n",
       "<polyline fill=\"none\" points=\"233,-23.5 343,-23.5 \" stroke=\"#000000\"/>\n",
       "<text fill=\"#000000\" font-family=\"Times,serif\" font-size=\"14.00\" text-anchor=\"middle\" x=\"288\" y=\"-8.3\">(None, 18)</text>\n",
       "</g>\n",
       "<!-- 140362017781240&#45;&gt;140362017354696 -->\n",
       "<g class=\"edge\" id=\"edge10\">\n",
       "<title>140362017781240-&gt;140362017354696</title>\n",
       "<path d=\"M301.36,-83.3799C279.5087,-73.304 253.729,-61.4167 230.9224,-50.9003\" fill=\"none\" stroke=\"#000000\"/>\n",
       "<polygon fill=\"#000000\" points=\"232.2297,-47.649 221.683,-46.6399 229.2985,-54.0058 232.2297,-47.649\" stroke=\"#000000\"/>\n",
       "</g>\n",
       "<!-- 140362017354752 -->\n",
       "<g class=\"node\" id=\"node12\">\n",
       "<title>140362017354752</title>\n",
       "<polygon fill=\"none\" points=\"361,-.5 361,-46.5 704,-46.5 704,-.5 361,-.5\" stroke=\"#000000\"/>\n",
       "<text fill=\"#000000\" font-family=\"Times,serif\" font-size=\"14.00\" text-anchor=\"middle\" x=\"443.5\" y=\"-19.8\">type2_output: Dense</text>\n",
       "<polyline fill=\"none\" points=\"526,-.5 526,-46.5 \" stroke=\"#000000\"/>\n",
       "<text fill=\"#000000\" font-family=\"Times,serif\" font-size=\"14.00\" text-anchor=\"middle\" x=\"560\" y=\"-31.3\">input:</text>\n",
       "<polyline fill=\"none\" points=\"526,-23.5 594,-23.5 \" stroke=\"#000000\"/>\n",
       "<text fill=\"#000000\" font-family=\"Times,serif\" font-size=\"14.00\" text-anchor=\"middle\" x=\"560\" y=\"-8.3\">output:</text>\n",
       "<polyline fill=\"none\" points=\"594,-.5 594,-46.5 \" stroke=\"#000000\"/>\n",
       "<text fill=\"#000000\" font-family=\"Times,serif\" font-size=\"14.00\" text-anchor=\"middle\" x=\"649\" y=\"-31.3\">(None, 1024)</text>\n",
       "<polyline fill=\"none\" points=\"594,-23.5 704,-23.5 \" stroke=\"#000000\"/>\n",
       "<text fill=\"#000000\" font-family=\"Times,serif\" font-size=\"14.00\" text-anchor=\"middle\" x=\"649\" y=\"-8.3\">(None, 18)</text>\n",
       "</g>\n",
       "<!-- 140362017781240&#45;&gt;140362017354752 -->\n",
       "<g class=\"edge\" id=\"edge11\">\n",
       "<title>140362017781240-&gt;140362017354752</title>\n",
       "<path d=\"M401.9186,-83.3799C423.8912,-73.304 449.8141,-61.4167 472.7475,-50.9003\" fill=\"none\" stroke=\"#000000\"/>\n",
       "<polygon fill=\"#000000\" points=\"474.4072,-53.9897 482.0382,-46.6399 471.4894,-47.6268 474.4072,-53.9897\" stroke=\"#000000\"/>\n",
       "</g>\n",
       "</g>\n",
       "</svg>"
      ],
      "text/plain": [
       "<IPython.core.display.SVG object>"
      ]
     },
     "execution_count": 19,
     "metadata": {},
     "output_type": "execute_result"
    }
   ],
   "source": [
    "# モデルの可視化\n",
    "from IPython.display import SVG\n",
    "from keras.utils.vis_utils import model_to_dot\n",
    "\n",
    "SVG(model_to_dot(model, show_shapes=True).create(prog='dot', format='svg'))"
   ]
  },
  {
   "cell_type": "markdown",
   "metadata": {},
   "source": [
    "## モデルの最適化関数や誤差関数を設定"
   ]
  },
  {
   "cell_type": "code",
   "execution_count": 20,
   "metadata": {},
   "outputs": [],
   "source": [
    "from keras.optimizers import SGD, Adadelta, Adam, RMSprop # 最適化手法\n",
    "\n",
    "model.compile(loss={\"type1_output\": \"categorical_crossentropy\",\n",
    "                    \"type2_output\": \"categorical_crossentropy\",}, # 誤差(損失)関数\n",
    "              optimizer=\"Adam\", # 最適化関数\n",
    "              metrics=[\"accuracy\"] # 評価指標\n",
    "             )"
   ]
  },
  {
   "cell_type": "markdown",
   "metadata": {},
   "source": [
    "## 学習"
   ]
  },
  {
   "cell_type": "code",
   "execution_count": 21,
   "metadata": {},
   "outputs": [],
   "source": [
    "import time"
   ]
  },
  {
   "cell_type": "code",
   "execution_count": null,
   "metadata": {},
   "outputs": [
    {
     "name": "stdout",
     "output_type": "stream",
     "text": [
      "WARNING:tensorflow:From /opt/conda/lib/python3.7/site-packages/tensorflow/python/ops/math_ops.py:3066: to_int32 (from tensorflow.python.ops.math_ops) is deprecated and will be removed in a future version.\n",
      "Instructions for updating:\n",
      "Use tf.cast instead.\n",
      "Train on 721 samples, validate on 80 samples\n",
      "Epoch 1/5\n"
     ]
    }
   ],
   "source": [
    "# 学習を実行\n",
    "# 学習途中の損失関数の値などはhistory.historyに保存される。\n",
    "history = model.fit(X_train, \n",
    "                    {\"type1_output\": Y_train1, \"type2_output\": Y_train2},\n",
    "                    batch_size=64,\n",
    "                    nb_epoch=5, # 試行回数\n",
    "                    verbose=1,\n",
    "                    validation_data=(X_test, {\"type1_output\": Y_test1, \"type2_output\": Y_test2}))"
   ]
  },
  {
   "cell_type": "markdown",
   "metadata": {},
   "source": [
    "## 評価"
   ]
  },
  {
   "cell_type": "code",
   "execution_count": null,
   "metadata": {},
   "outputs": [],
   "source": [
    "# テストデータに対する評価値\n",
    "score = model.evaluate(X_test, [Y_test1,Y_test2], verbose=0)\n",
    "score\n",
    "# print('Test score:', score[0]) # 損失関数の値\n",
    "# print('Test accuracy:', score[1]) # 精度"
   ]
  },
  {
   "cell_type": "code",
   "execution_count": null,
   "metadata": {},
   "outputs": [],
   "source": [
    "# 学習曲線\n",
    "fig, ax = plt.subplots(1, 2, figsize=(12, 6))\n",
    "ax[0].set_title('Training performance (Loss)')\n",
    "ax[0].plot(history.epoch, history.history['loss'], label='loss')\n",
    "ax[0].plot(history.epoch, history.history['type1_output_loss'], label='type1_output_loss')\n",
    "ax[0].plot(history.epoch, history.history['type2_output_loss'], label='type2_output_loss')\n",
    "ax[0].plot(history.epoch, history.history['val_loss'], label='val_loss')\n",
    "ax[0].plot(history.epoch, history.history['val_type1_output_loss'], label='val_type1_output_loss')\n",
    "ax[0].plot(history.epoch, history.history['val_type2_output_loss'], label='val_type2_output_loss')\n",
    "ax[0].set(xlabel='Epoch', ylabel='Loss')\n",
    "ax[0].legend()\n",
    "\n",
    "ax[1].set_title('Training performance (Accuracy)')\n",
    "ax[1].plot(history.epoch, history.history['type1_output_acc'], label='type1_output_acc')\n",
    "ax[1].plot(history.epoch, history.history['type2_output_acc'], label='type2_output_acc')\n",
    "ax[1].plot(history.epoch, history.history['val_type1_output_acc'], label='val_type1_output_acc')\n",
    "ax[1].plot(history.epoch, history.history['val_type2_output_acc'], label='val_type2_output_acc')\n",
    "ax[1].set(xlabel='Epoch', ylabel='Accuracy')\n",
    "ax[1].legend(loc='best')"
   ]
  },
  {
   "cell_type": "markdown",
   "metadata": {},
   "source": [
    "## 予測の可視化"
   ]
  },
  {
   "cell_type": "code",
   "execution_count": null,
   "metadata": {},
   "outputs": [],
   "source": [
    "# 予測値\n",
    "New_test = X_test\n",
    "# 画像のラベルを推定する\n",
    "Y_test_pred = model.predict(New_test)\n",
    "Y_test1_pred = Y_test_pred[0]\n",
    "Y_test2_pred = Y_test_pred[1]"
   ]
  },
  {
   "cell_type": "code",
   "execution_count": null,
   "metadata": {},
   "outputs": [],
   "source": [
    "# データの可視化\n",
    "# 上段は正しいラベル　下段は推測ラベル\n",
    "fig, ax = plt.subplots(8, 10, figsize=(18, 18))\n",
    "for for_1 in range(8):\n",
    "    for for_2 in range(10):\n",
    "        ax[for_1][for_2].imshow(New_test[for_1*10+for_2].reshape(215, 215, 4))\n",
    "        ax[for_1][for_2].set_title(f\"{types[y_test1[for_1*10+for_2]]}:{types[y_test2[for_1*10+for_2]]}\"\n",
    "                                   +\"\\n\"\n",
    "                                   +f\"{types[np.argmax(Y_test1_pred[for_1*10+for_2])]}:{types[np.argmax(Y_test2_pred[for_1*10+for_2])]}\")\n",
    "        ax[for_1][for_2].axis('off')"
   ]
  },
  {
   "cell_type": "code",
   "execution_count": null,
   "metadata": {},
   "outputs": [],
   "source": [
    "# 予測の可視化\n",
    "# Y軸が渡した画像の数字　X軸がニューラルネットワークによる推定値\n",
    "plt.imshow(Y_test1_pred, cmap='gray', interpolation='nearest', vmin=0, vmax=1) #Y_test_predの範囲を変えることで予測の場所を変更できる"
   ]
  },
  {
   "cell_type": "code",
   "execution_count": null,
   "metadata": {},
   "outputs": [],
   "source": [
    "plt.imshow(Y_test2_pred, cmap='gray', interpolation='nearest', vmin=0, vmax=1) #Y_test_predの範囲を変えることで予測の場所を変更できる"
   ]
  },
  {
   "cell_type": "code",
   "execution_count": null,
   "metadata": {},
   "outputs": [],
   "source": []
  }
 ],
 "metadata": {
  "kernelspec": {
   "display_name": "Python 3",
   "language": "python",
   "name": "python3"
  },
  "language_info": {
   "codemirror_mode": {
    "name": "ipython",
    "version": 3
   },
   "file_extension": ".py",
   "mimetype": "text/x-python",
   "name": "python",
   "nbconvert_exporter": "python",
   "pygments_lexer": "ipython3",
   "version": "3.7.3"
  }
 },
 "nbformat": 4,
 "nbformat_minor": 2
}
