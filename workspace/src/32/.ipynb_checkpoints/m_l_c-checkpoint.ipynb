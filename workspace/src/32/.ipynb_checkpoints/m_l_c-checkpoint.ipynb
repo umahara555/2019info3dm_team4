{
 "cells": [
  {
   "cell_type": "code",
   "execution_count": 1,
   "metadata": {},
   "outputs": [
    {
     "name": "stderr",
     "output_type": "stream",
     "text": [
      "Using TensorFlow backend.\n"
     ]
    }
   ],
   "source": [
    "import dataset\n",
    "import time\n",
    "import numpy as np\n",
    "from PIL import Image\n",
    "from matplotlib import pylab as plt\n",
    "%matplotlib inline\n",
    "\n",
    "from keras.utils import np_utils\n",
    "from keras.models import Model\n",
    "from keras.layers import Input, Dense, Conv2D, Activation, MaxPooling2D, GlobalAveragePooling2D, Flatten, Dropout, BatchNormalization\n",
    "from keras.optimizers import Adam\n",
    "from keras.callbacks import History"
   ]
  },
  {
   "cell_type": "code",
   "execution_count": 2,
   "metadata": {},
   "outputs": [
    {
     "name": "stdout",
     "output_type": "stream",
     "text": [
      "801/801 done\n"
     ]
    }
   ],
   "source": [
    "images, (type1, type2) = dataset.load_data()"
   ]
  },
  {
   "cell_type": "code",
   "execution_count": 3,
   "metadata": {},
   "outputs": [],
   "source": [
    "type_dict = dataset.type_dict\n",
    "type_labels = list(type_dict.keys())\n",
    "\n",
    "img_rows = images.shape[1]\n",
    "img_cols = images.shape[2]\n",
    "img_channels = images.shape[3]\n",
    "nb_classes = len(type_labels)  # 正解のパターン数\n",
    "\n",
    "images = images.astype('float32') / 255.0  # 正規化"
   ]
  },
  {
   "cell_type": "code",
   "execution_count": 4,
   "metadata": {},
   "outputs": [],
   "source": [
    "type1_c = np_utils.to_categorical(type1, nb_classes)\n",
    "type2_c = np_utils.to_categorical(type2, nb_classes)"
   ]
  },
  {
   "cell_type": "code",
   "execution_count": 5,
   "metadata": {},
   "outputs": [],
   "source": [
    "boder = 500\n",
    "\n",
    "img_train = images[:boder]\n",
    "img_test = images[boder:750]\n",
    "\n",
    "types = type1_c + type2_c\n",
    "types = np.where(types > 1., 1., types)\n",
    "\n",
    "type_train = types[:boder]\n",
    "type_test = types[boder:750]\n",
    "\n",
    "# 最後の可視化用\n",
    "# type1_test = type1[750:]\n",
    "# type2_test = type2[750:]"
   ]
  },
  {
   "cell_type": "code",
   "execution_count": 6,
   "metadata": {},
   "outputs": [
    {
     "name": "stdout",
     "output_type": "stream",
     "text": [
      "WARNING:tensorflow:From /opt/conda/lib/python3.7/site-packages/tensorflow/python/framework/op_def_library.py:263: colocate_with (from tensorflow.python.framework.ops) is deprecated and will be removed in a future version.\n",
      "Instructions for updating:\n",
      "Colocations handled automatically by placer.\n",
      "WARNING:tensorflow:From /opt/conda/lib/python3.7/site-packages/keras/backend/tensorflow_backend.py:3445: calling dropout (from tensorflow.python.ops.nn_ops) with keep_prob is deprecated and will be removed in a future version.\n",
      "Instructions for updating:\n",
      "Please use `rate` instead of `keep_prob`. Rate should be set to `rate = 1 - keep_prob`.\n"
     ]
    },
    {
     "name": "stderr",
     "output_type": "stream",
     "text": [
      "/opt/conda/lib/python3.7/site-packages/ipykernel_launcher.py:27: UserWarning: Update your `Model` call to the Keras 2 API: `Model(inputs=Tensor(\"in..., outputs=Tensor(\"de...)`\n"
     ]
    }
   ],
   "source": [
    "input_layer = Input(shape=(img_rows, img_cols, img_channels))\n",
    "\n",
    "x = Conv2D(32, kernel_size=(8,8), padding='same')(input_layer)\n",
    "x = Activation('relu')(x)\n",
    "x = Conv2D(32, kernel_size=(8,8), padding='same')(x)\n",
    "x = Activation('relu')(x)\n",
    "x = MaxPooling2D(pool_size=(2, 2))(x)\n",
    "x = Dropout(0.25)(x)\n",
    "\n",
    "# x = Conv2D(64, kernel_size=3, padding='same')(x)\n",
    "# x = Activation('relu')(x)\n",
    "# x = BatchNormalization()(x)\n",
    "# x = MaxPooling2D(pool_size=2)(x)\n",
    "# x = Dropout(0.25)(x)\n",
    "\n",
    "# x = Conv2D(128, kernel_size=3, padding='same')(x)\n",
    "# x = Activation('relu')(x)\n",
    "# x = BatchNormalization()(x)\n",
    "# x = MaxPooling2D(pool_size=2)(x)\n",
    "# x = Dropout(0.25)(x)\n",
    "\n",
    "x = Flatten()(x)\n",
    "# x = GlobalAveragePooling2D()(x)\n",
    "# x = Dropout(0.5)(x)\n",
    "x = Dense(nb_classes, activation=\"sigmoid\")(x)\n",
    "\n",
    "model = Model(inputs=input_layer, output=x)"
   ]
  },
  {
   "cell_type": "code",
   "execution_count": 7,
   "metadata": {},
   "outputs": [
    {
     "name": "stdout",
     "output_type": "stream",
     "text": [
      "_________________________________________________________________\n",
      "Layer (type)                 Output Shape              Param #   \n",
      "=================================================================\n",
      "input_1 (InputLayer)         (None, 64, 64, 4)         0         \n",
      "_________________________________________________________________\n",
      "conv2d_1 (Conv2D)            (None, 64, 64, 32)        8224      \n",
      "_________________________________________________________________\n",
      "activation_1 (Activation)    (None, 64, 64, 32)        0         \n",
      "_________________________________________________________________\n",
      "conv2d_2 (Conv2D)            (None, 64, 64, 32)        65568     \n",
      "_________________________________________________________________\n",
      "activation_2 (Activation)    (None, 64, 64, 32)        0         \n",
      "_________________________________________________________________\n",
      "max_pooling2d_1 (MaxPooling2 (None, 32, 32, 32)        0         \n",
      "_________________________________________________________________\n",
      "dropout_1 (Dropout)          (None, 32, 32, 32)        0         \n",
      "_________________________________________________________________\n",
      "flatten_1 (Flatten)          (None, 32768)             0         \n",
      "_________________________________________________________________\n",
      "dense_1 (Dense)              (None, 18)                589842    \n",
      "=================================================================\n",
      "Total params: 663,634\n",
      "Trainable params: 663,634\n",
      "Non-trainable params: 0\n",
      "_________________________________________________________________\n"
     ]
    }
   ],
   "source": [
    "model.summary()"
   ]
  },
  {
   "cell_type": "code",
   "execution_count": 8,
   "metadata": {},
   "outputs": [],
   "source": [
    "def generator(X, Y, batch_size):\n",
    "    indices = np.arange(X.shape[0])\n",
    "    while True:\n",
    "        img_cahce, label_cache = [], []\n",
    "        np.random.shuffle(indices)\n",
    "        for i in indices:\n",
    "            img_cahce.append(X[i])\n",
    "            label_cache.append(Y[i])\n",
    "            if len(img_cahce) == batch_size:\n",
    "                X_batch = np.array(img_cahce)\n",
    "                Y_batch = np.array(label_cache)\n",
    "                img_cahce, label_cache = [], []\n",
    "                yield X_batch, Y_batch"
   ]
  },
  {
   "cell_type": "code",
   "execution_count": 9,
   "metadata": {},
   "outputs": [],
   "source": [
    "model.compile(optimizer=Adam(lr=1e-3),\n",
    "              loss='binary_crossentropy',\n",
    "              metrics=['accuracy'])"
   ]
  },
  {
   "cell_type": "code",
   "execution_count": 20,
   "metadata": {},
   "outputs": [
    {
     "name": "stdout",
     "output_type": "stream",
     "text": [
      "WARNING:tensorflow:From /opt/conda/lib/python3.7/site-packages/tensorflow/python/ops/math_ops.py:3066: to_int32 (from tensorflow.python.ops.math_ops) is deprecated and will be removed in a future version.\n",
      "Instructions for updating:\n",
      "Use tf.cast instead.\n",
      "Epoch 1/10\n",
      "20/20 [==============================] - 16s 819ms/step - loss: 0.6236 - acc: 0.8703 - val_loss: 0.5382 - val_acc: 0.8893\n",
      "Epoch 2/10\n",
      "20/20 [==============================] - 12s 582ms/step - loss: 0.4033 - acc: 0.8951 - val_loss: 0.5278 - val_acc: 0.8885\n",
      "Epoch 3/10\n",
      "20/20 [==============================] - 9s 444ms/step - loss: 0.3533 - acc: 0.9019 - val_loss: 0.4704 - val_acc: 0.8442\n",
      "Epoch 4/10\n",
      "20/20 [==============================] - 12s 616ms/step - loss: 0.3326 - acc: 0.9040 - val_loss: 0.4406 - val_acc: 0.8659\n",
      "Epoch 5/10\n",
      "20/20 [==============================] - 12s 614ms/step - loss: 0.2883 - acc: 0.9113 - val_loss: 0.4351 - val_acc: 0.8398\n",
      "Epoch 6/10\n",
      "20/20 [==============================] - 11s 532ms/step - loss: 0.2828 - acc: 0.9166 - val_loss: 0.5141 - val_acc: 0.7990\n",
      "Epoch 7/10\n",
      "20/20 [==============================] - 10s 501ms/step - loss: 0.2555 - acc: 0.9195 - val_loss: 0.4635 - val_acc: 0.8524\n",
      "Epoch 8/10\n",
      "20/20 [==============================] - 11s 532ms/step - loss: 0.2329 - acc: 0.9281 - val_loss: 0.4577 - val_acc: 0.8403\n",
      "Epoch 9/10\n",
      "20/20 [==============================] - 11s 542ms/step - loss: 0.2235 - acc: 0.9319 - val_loss: 0.4922 - val_acc: 0.8299\n",
      "Epoch 10/10\n",
      "20/20 [==============================] - 7s 332ms/step - loss: 0.1937 - acc: 0.9390 - val_loss: 0.6063 - val_acc: 0.7990\n"
     ]
    },
    {
     "data": {
      "text/plain": [
       "<keras.callbacks.History at 0x7ff460106358>"
      ]
     },
     "execution_count": 20,
     "metadata": {},
     "output_type": "execute_result"
    }
   ],
   "source": [
    "history = History()\n",
    "batch_size = 32\n",
    "model.fit_generator(generator(img_train, type_train, batch_size),\n",
    "                   steps_per_epoch=len(img_train)//batch_size,\n",
    "                   epochs=10,\n",
    "                   verbose=1,\n",
    "                   callbacks=[history],\n",
    "                   validation_data=generator(img_test, type_test, batch_size),\n",
    "                   validation_steps=len(img_test)//batch_size,)\n"
   ]
  },
  {
   "cell_type": "code",
   "execution_count": 22,
   "metadata": {},
   "outputs": [
    {
     "data": {
      "text/plain": [
       "<matplotlib.legend.Legend at 0x7ff423f81860>"
      ]
     },
     "execution_count": 22,
     "metadata": {},
     "output_type": "execute_result"
    },
    {
     "data": {
      "image/png": "[encoded data removed]",
      "text/plain": [
       "<Figure size 864x432 with 2 Axes>"
      ]
     },
     "metadata": {
      "needs_background": "light"
     },
     "output_type": "display_data"
    }
   ],
   "source": [
    "fig, ax = plt.subplots(1, 2, figsize=(12, 6))\n",
    "ax[0].set_title('Training performance (Loss)')\n",
    "ax[0].plot(history.epoch, history.history['loss'], label='loss')\n",
    "ax[0].plot(history.epoch, history.history['val_loss'], label='val_loss')\n",
    "ax[0].set(xlabel='Epoch', ylabel='Loss')\n",
    "ax[0].legend()\n",
    "\n",
    "ax[1].set_title('Training performance (Accuracy)')\n",
    "ax[1].plot(history.epoch, history.history['acc'], label='acc')\n",
    "ax[1].plot(history.epoch, history.history['val_acc'], label='val_acc')\n",
    "ax[1].set(xlabel='Epoch', ylabel='Accuracy')\n",
    "ax[1].legend(loc='best')"
   ]
  },
  {
   "cell_type": "code",
   "execution_count": 23,
   "metadata": {},
   "outputs": [],
   "source": [
    "def test_generator(X, batch_size):\n",
    "    indices = np.arange(X.shape[0])\n",
    "    while True:\n",
    "        img_cahce = []\n",
    "        np.random.shuffle(indices)\n",
    "        for i in indices:\n",
    "            img_cahce.append(X[i])\n",
    "            if len(img_cahce) == batch_size:\n",
    "                X_batch = np.array(img_cahce)\n",
    "                img_cahce = []\n",
    "                yield X_batch"
   ]
  },
  {
   "cell_type": "code",
   "execution_count": 24,
   "metadata": {},
   "outputs": [
    {
     "name": "stdout",
     "output_type": "stream",
     "text": [
      "152/152 [==============================] - 3s 17ms/step\n"
     ]
    }
   ],
   "source": [
    "new_test = img_test\n",
    "\n",
    "# 画像のラベルを推定する\n",
    "batch_size = 1\n",
    "pred = model.predict_generator(test_generator(new_test,batch_size),\n",
    "                               steps=len(img_test)//batch_size,\n",
    "                               verbose=1)"
   ]
  },
  {
   "cell_type": "code",
   "execution_count": 26,
   "metadata": {},
   "outputs": [
    {
     "data": {
      "text/plain": [
       "array([9.5613599e-02, 1.0455847e-02, 4.5220554e-03, 6.2973803e-01,\n",
       "       4.7364771e-02, 6.8579113e-01, 3.3180594e-02, 1.9658929e-01,\n",
       "       3.3597082e-02, 1.7728037e-01, 6.3853562e-03, 2.3443159e-01,\n",
       "       2.5178403e-02, 6.2931061e-02, 2.9300898e-02, 9.2927337e-01,\n",
       "       8.6819306e-03, 2.2248359e-04], dtype=float32)"
      ]
     },
     "execution_count": 26,
     "metadata": {},
     "output_type": "execute_result"
    }
   ],
   "source": [
    "pred[0]"
   ]
  },
  {
   "cell_type": "code",
   "execution_count": null,
   "metadata": {},
   "outputs": [],
   "source": []
  }
 ],
 "metadata": {
  "kernelspec": {
   "display_name": "Python 3",
   "language": "python",
   "name": "python3"
  },
  "language_info": {
   "codemirror_mode": {
    "name": "ipython",
    "version": 3
   },
   "file_extension": ".py",
   "mimetype": "text/x-python",
   "name": "python",
   "nbconvert_exporter": "python",
   "pygments_lexer": "ipython3",
   "version": "3.7.3"
  }
 },
 "nbformat": 4,
 "nbformat_minor": 2
}
