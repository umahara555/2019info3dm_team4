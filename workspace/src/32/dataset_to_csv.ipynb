{
 "cells": [
  {
   "cell_type": "code",
   "execution_count": 6,
   "metadata": {},
   "outputs": [],
   "source": [
    "import pandas as pd\n",
    "from PIL import Image\n",
    "import numpy as np\n",
    "import glob\n",
    "import pathlib\n",
    "from matplotlib import pylab as plt\n",
    "from multiprocessing import Pool "
   ]
  },
  {
   "cell_type": "code",
   "execution_count": 3,
   "metadata": {},
   "outputs": [
    {
     "name": "stdout",
     "output_type": "stream",
     "text": [
      "/workspace/src/32\n"
     ]
    }
   ],
   "source": [
    "!pwd"
   ]
  },
  {
   "cell_type": "code",
   "execution_count": 20,
   "metadata": {},
   "outputs": [],
   "source": [
    "image_names = [ image_path.name for image_path in pathlib.Path('/workspace/data/images').glob('*.png') ]\n",
    "image_names.sort()\n",
    "\n",
    "df_images = pd.Series(image_names)"
   ]
  },
  {
   "cell_type": "code",
   "execution_count": 70,
   "metadata": {},
   "outputs": [],
   "source": [
    "df = pd.read_csv('/workspace/data/Pokemon.csv', sep=',')\n",
    "df.drop_duplicates(subset='Number', inplace=True)\n",
    "df.reset_index(inplace=True, drop=True)\n",
    "\n",
    "type1 = df['Type1'][:801].values\n",
    "type2 = df['Type2'].fillna(0)[:801].values\n",
    "\n",
    "types = []\n",
    "for a,b in zip(type1,type2):\n",
    "    if b:\n",
    "        types.append(f'{a},{b}')\n",
    "    else:\n",
    "        types.append(f'{a}')\n",
    "        \n",
    "df_types = pd.Series(types)"
   ]
  },
  {
   "cell_type": "code",
   "execution_count": 71,
   "metadata": {},
   "outputs": [],
   "source": [
    "df = pd.concat([df_images,df_types], axis=1)\n",
    "df = df.rename(columns={0:'Filenames',1:'Types'})"
   ]
  },
  {
   "cell_type": "code",
   "execution_count": 72,
   "metadata": {},
   "outputs": [],
   "source": [
    "df.to_csv('pokemon_data.csv',index=False)"
   ]
  },
  {
   "cell_type": "code",
   "execution_count": null,
   "metadata": {},
   "outputs": [],
   "source": []
  }
 ],
 "metadata": {
  "kernelspec": {
   "display_name": "Python 3",
   "language": "python",
   "name": "python3"
  },
  "language_info": {
   "codemirror_mode": {
    "name": "ipython",
    "version": 3
   },
   "file_extension": ".py",
   "mimetype": "text/x-python",
   "name": "python",
   "nbconvert_exporter": "python",
   "pygments_lexer": "ipython3",
   "version": "3.7.3"
  }
 },
 "nbformat": 4,
 "nbformat_minor": 2
}
