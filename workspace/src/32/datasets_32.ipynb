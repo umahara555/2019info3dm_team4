{
 "cells": [
  {
   "cell_type": "markdown",
   "metadata": {},
   "source": [
    "# データセットの作成"
   ]
  },
  {
   "cell_type": "markdown",
   "metadata": {},
   "source": [
    "### ライブラリ等の読み込み"
   ]
  },
  {
   "cell_type": "code",
   "execution_count": null,
   "metadata": {},
   "outputs": [],
   "source": [
    "import pandas as pd\n",
    "from PIL import Image\n",
    "import numpy as np\n",
    "import glob\n",
    "from matplotlib import pylab as plt\n",
    "from multiprocessing import Pool "
   ]
  },
  {
   "cell_type": "markdown",
   "metadata": {},
   "source": [
    "**念の為path確認**"
   ]
  },
  {
   "cell_type": "code",
   "execution_count": null,
   "metadata": {},
   "outputs": [],
   "source": [
    "!pwd"
   ]
  },
  {
   "cell_type": "markdown",
   "metadata": {},
   "source": [
    "### データセットの読み込み関数"
   ]
  },
  {
   "cell_type": "markdown",
   "metadata": {},
   "source": [
    "type_dict : タイプ<->数値の対応表\n",
    "\n",
    "load images で 画像を読み込み，np形式に変換\n",
    "\n",
    "load type で　タイプを読み込み，数値に変換\n",
    "\n",
    "return :\n",
    "\n",
    "- X : 画像（データ）, X.shape -> (1602, 215, 215, 4)\n",
    "- Y : タイプ(ラベル), Y.shape -> (1602,)\n",
    "\n",
    "\n",
    "ポケモン毎に画像は２枚割り当てている．これは，タイプが１つのポケモンと２つのポケモンがいる為．以下参照\n",
    "- １タイプのポケモン : 2つの画像に同じタイプ\n",
    "- ２タイプのポケモン : ２つの画像にそれぞれ別タイプ"
   ]
  },
  {
   "cell_type": "code",
   "execution_count": null,
   "metadata": {},
   "outputs": [],
   "source": [
    "def load_data():\n",
    "    type_dict = {\n",
    "        \"Normal\":0,\n",
    "        \"Fire\":1,\n",
    "        \"Water\":2,\n",
    "        \"Electric\":3,\n",
    "        \"Grass\":4,\n",
    "        \"Ice\":5,\n",
    "        \"Fighting\":6,\n",
    "        \"Poison\":7,\n",
    "        \"Ground\":8,\n",
    "        \"Flying\":9,\n",
    "        \"Psychic\":10,\n",
    "        \"Bug\":11,\n",
    "        \"Rock\":12,\n",
    "        \"Ghost\":13,\n",
    "        \"Dragon\":14,\n",
    "        \"Dark\":15,\n",
    "        \"Steel\":16,\n",
    "        \"Fairy\":17\n",
    "    }\n",
    "    \n",
    "    # load images\n",
    "    images = _read_images()\n",
    "    images = np.vstack((images,images))\n",
    "    \n",
    "    # load type\n",
    "    df = pd.read_csv('../data/Pokemon.csv', sep=',')\n",
    "    df.drop_duplicates(subset='Number', inplace=True)\n",
    "    df.reset_index(inplace=True, drop=True)\n",
    "    ind = df[df['Type2'].isnull()]['Type2'].index\n",
    "    df.iloc[ind, 3] = df.iloc[ind, 2]\n",
    "    df_1 = df[[\"Type1\"]][:801]\n",
    "    df_1.rename(columns={'Type1': 'Type'}, inplace=True)\n",
    "    df_2 = df[[\"Type2\"]][:801]\n",
    "    df_2.rename(columns={'Type2': 'Type'}, inplace=True)\n",
    "    df = pd.concat([df_1, df_2])\n",
    "    df.reset_index(inplace=True, drop=True)\n",
    "    df = df[\"Type\"].map(type_dict)\n",
    "    types = df.values\n",
    "\n",
    "    X = images\n",
    "    Y = types\n",
    "    return X,Y\n",
    "\n",
    "def _read_image(path):\n",
    "    img = Image.open(path)\n",
    "    return np.array(img)\n",
    "\n",
    "def _read_images():\n",
    "    image_paths = glob.glob(\"../data/images/*\")\n",
    "    image_paths.sort()\n",
    "    \n",
    "    \n",
    "    with Pool() as p:\n",
    "        arr = p.map(read_image, image_paths)\n",
    "        \n",
    "    return arr"
   ]
  },
  {
   "cell_type": "markdown",
   "metadata": {},
   "source": [
    "#### データセットの読み込み"
   ]
  },
  {
   "cell_type": "code",
   "execution_count": null,
   "metadata": {},
   "outputs": [],
   "source": [
    "%time X,Y = load_data()"
   ]
  },
  {
   "cell_type": "code",
   "execution_count": null,
   "metadata": {},
   "outputs": [],
   "source": [
    "X.shape"
   ]
  },
  {
   "cell_type": "markdown",
   "metadata": {},
   "source": [
    "タイプ一覧を用意する"
   ]
  },
  {
   "cell_type": "code",
   "execution_count": null,
   "metadata": {},
   "outputs": [],
   "source": [
    "types = [\n",
    "        \"Normal\",\n",
    "        \"Fire\",\n",
    "        \"Water\",\n",
    "        \"Electric\",\n",
    "        \"Grass\",\n",
    "        \"Ice\",\n",
    "        \"Fighting\",\n",
    "        \"Poison\",\n",
    "        \"Ground\",\n",
    "        \"Flying\",\n",
    "        \"Psychic\",\n",
    "        \"Bug\",\n",
    "        \"Rock\",\n",
    "        \"Ghost\",\n",
    "        \"Dragon\",\n",
    "        \"Dark\",\n",
    "        \"Steel\",\n",
    "        \"Fairy\"\n",
    "]"
   ]
  },
  {
   "cell_type": "markdown",
   "metadata": {},
   "source": [
    "#### データの確認"
   ]
  },
  {
   "cell_type": "code",
   "execution_count": null,
   "metadata": {},
   "outputs": [],
   "source": [
    "# 各ラベルごとに画像を10枚格納\n",
    "# img_list = []\n",
    "# for for_1 in range(18):\n",
    "#     choice_idx = np.random.choice(np.where(Y == for_1)[0], 10, replace=False)\n",
    "#     img_list.append(X[choice_idx])"
   ]
  },
  {
   "cell_type": "code",
   "execution_count": null,
   "metadata": {},
   "outputs": [],
   "source": [
    "# データの可視化\n",
    "# for for_1 in range(18):\n",
    "#     fig, ax = plt.subplots(1, 10, figsize=(18, 8))\n",
    "#     for for_2 in range(10):\n",
    "#         ax[for_2].imshow(img_list[for_1][for_2].reshape(215, 215, 4))\n",
    "#         ax[for_2].set_title(types[for_1])\n",
    "#         ax[for_2].axis('off')"
   ]
  },
  {
   "cell_type": "code",
   "execution_count": null,
   "metadata": {},
   "outputs": [],
   "source": []
  }
 ],
 "metadata": {
  "kernelspec": {
   "display_name": "Python 3",
   "language": "python",
   "name": "python3"
  },
  "language_info": {
   "codemirror_mode": {
    "name": "ipython",
    "version": 3
   },
   "file_extension": ".py",
   "mimetype": "text/x-python",
   "name": "python",
   "nbconvert_exporter": "python",
   "pygments_lexer": "ipython3",
   "version": "3.7.3"
  }
 },
 "nbformat": 4,
 "nbformat_minor": 2
}
