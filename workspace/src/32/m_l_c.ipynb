{
 "cells": [
  {
   "cell_type": "code",
   "execution_count": 1,
   "metadata": {},
   "outputs": [
    {
     "name": "stderr",
     "output_type": "stream",
     "text": [
      "Using TensorFlow backend.\n"
     ]
    }
   ],
   "source": [
    "import dataset\n",
    "import time\n",
    "import numpy as np\n",
    "from PIL import Image\n",
    "from matplotlib import pylab as plt\n",
    "%matplotlib inline\n",
    "\n",
    "from keras.utils import np_utils\n",
    "from keras.models import Model\n",
    "from keras.layers import Input, Dense, Conv2D, Activation, MaxPooling2D, GlobalAveragePooling2D, Flatten, Dropout, BatchNormalization\n",
    "from keras.optimizers import Adam\n",
    "from keras.callbacks import History"
   ]
  },
  {
   "cell_type": "code",
   "execution_count": 2,
   "metadata": {},
   "outputs": [],
   "source": [
    "types = [\n",
    "        \"Normal\",\n",
    "        \"Fire\",\n",
    "        \"Water\",\n",
    "        \"Electric\",\n",
    "        \"Grass\",\n",
    "        \"Ice\",\n",
    "        \"Fighting\",\n",
    "        \"Poison\",\n",
    "        \"Ground\",\n",
    "        \"Flying\",\n",
    "        \"Psychic\",\n",
    "        \"Bug\",\n",
    "        \"Rock\",\n",
    "        \"Ghost\",\n",
    "        \"Dragon\",\n",
    "        \"Dark\",\n",
    "        \"Steel\",\n",
    "        \"Fairy\"\n",
    "]"
   ]
  },
  {
   "cell_type": "code",
   "execution_count": 3,
   "metadata": {},
   "outputs": [
    {
     "name": "stdout",
     "output_type": "stream",
     "text": [
      "801/801 done\n"
     ]
    }
   ],
   "source": [
    "images, (type1, type2) = dataset.load_data()"
   ]
  },
  {
   "cell_type": "code",
   "execution_count": null,
   "metadata": {},
   "outputs": [],
   "source": [
    "type_dict = dataset.type_dict\n",
    "type_labels = list(type_dict.keys())\n",
    "\n",
    "img_rows = images.shape[1]\n",
    "img_cols = images.shape[2]\n",
    "img_channels = images.shape[3]\n",
    "nb_classes = len(type_labels)  # 正解のパターン数\n",
    "\n",
    "images = images.astype('float32') / 255.0  # 正規化"
   ]
  },
  {
   "cell_type": "code",
   "execution_count": null,
   "metadata": {},
   "outputs": [],
   "source": [
    "type1_c = np_utils.to_categorical(type1, nb_classes)\n",
    "type2_c = np_utils.to_categorical(type2, nb_classes)\n",
    "types = type1_c + type2_c\n",
    "types = np.where(types > 1., 1., types)"
   ]
  },
  {
   "cell_type": "code",
   "execution_count": null,
   "metadata": {},
   "outputs": [],
   "source": [
    "# boder = 500\n",
    "\n",
    "img_train = images[:500]\n",
    "type_train = types[:500]\n",
    "img_vali = images[500:750]\n",
    "type_vali = types[500:750]\n",
    "img_test = images[750:]\n",
    "type_test = types[750:]\n",
    "\n",
    "# 最後の可視化用\n",
    "# type1_test = type1[750:]\n",
    "# type2_test = type2[750:]"
   ]
  },
  {
   "cell_type": "code",
   "execution_count": null,
   "metadata": {},
   "outputs": [],
   "source": [
    "input_layer = Input(shape=(img_rows, img_cols, img_channels))\n",
    "\n",
    "x = Conv2D(32, kernel_size=(8,8), padding='same')(input_layer)\n",
    "x = Activation('relu')(x)\n",
    "x = Conv2D(32, kernel_size=(8,8), padding='same')(x)\n",
    "x = Activation('relu')(x)\n",
    "x = MaxPooling2D(pool_size=(2, 2))(x)\n",
    "# x = Dropout(0.25)(x)\n",
    "\n",
    "# x = Conv2D(64, kernel_size=3, padding='same')(x)\n",
    "# x = Activation('relu')(x)\n",
    "# x = BatchNormalization()(x)\n",
    "# x = MaxPooling2D(pool_size=2)(x)\n",
    "# x = Dropout(0.25)(x)\n",
    "\n",
    "# x = Conv2D(128, kernel_size=3, padding='same')(x)\n",
    "# x = Activation('relu')(x)\n",
    "# x = BatchNormalization()(x)\n",
    "# x = MaxPooling2D(pool_size=2)(x)\n",
    "# x = Dropout(0.25)(x)\n",
    "\n",
    "x = Flatten()(x)\n",
    "# x = GlobalAveragePooling2D()(x)\n",
    "x = Dropout(0.5)(x)\n",
    "x = Dense(nb_classes, activation=\"sigmoid\")(x)\n",
    "\n",
    "model = Model(inputs=input_layer, output=x)"
   ]
  },
  {
   "cell_type": "code",
   "execution_count": null,
   "metadata": {},
   "outputs": [],
   "source": [
    "model.summary()"
   ]
  },
  {
   "cell_type": "code",
   "execution_count": null,
   "metadata": {},
   "outputs": [],
   "source": [
    "def generator(X, Y, batch_size):\n",
    "    indices = np.arange(X.shape[0])\n",
    "    while True:\n",
    "        img_cahce, label_cache = [], []\n",
    "        np.random.shuffle(indices)\n",
    "        for i in indices:\n",
    "            img_cahce.append(X[i])\n",
    "            label_cache.append(Y[i])\n",
    "            \n",
    "#             img = np.flip(X[i], axis=0)\n",
    "#             img_cahce.append(img)\n",
    "#             label_cache.append(Y[i])\n",
    "            \n",
    "            img = np.flip(X[i], axis=1)\n",
    "            img_cahce.append(img)\n",
    "            label_cache.append(Y[i])\n",
    "            \n",
    "#             img = np.flip(X[i], axis=0)\n",
    "#             img = np.flip(img, axis=1)\n",
    "#             img_cahce.append(img)\n",
    "#             label_cache.append(Y[i])\n",
    "            \n",
    "            if len(img_cahce) == batch_size:\n",
    "                X_batch = np.array(img_cahce)\n",
    "                Y_batch = np.array(label_cache)\n",
    "                img_cahce, label_cache = [], []\n",
    "                yield X_batch, Y_batch"
   ]
  },
  {
   "cell_type": "code",
   "execution_count": null,
   "metadata": {},
   "outputs": [],
   "source": [
    "model.compile(optimizer=Adam(lr=1e-3),\n",
    "              loss='binary_crossentropy',\n",
    "              metrics=['accuracy'])"
   ]
  },
  {
   "cell_type": "code",
   "execution_count": null,
   "metadata": {},
   "outputs": [],
   "source": [
    "history = History()\n",
    "batch_size = 32 # ４の倍数にしてくれ!!\n",
    "model.fit_generator(generator(img_train, type_train, batch_size),\n",
    "                   steps_per_epoch=len(img_train)*2//batch_size,\n",
    "                   epochs=10,\n",
    "                   verbose=1,\n",
    "                   callbacks=[history],\n",
    "                   validation_data=generator(img_vali, type_vali, batch_size),\n",
    "                   validation_steps=len(img_test)//batch_size,)\n"
   ]
  },
  {
   "cell_type": "code",
   "execution_count": null,
   "metadata": {},
   "outputs": [],
   "source": [
    "fig, ax = plt.subplots(1, 2, figsize=(12, 6))\n",
    "ax[0].set_title('Training performance (Loss)')\n",
    "ax[0].plot(history.epoch, history.history['loss'], label='loss')\n",
    "ax[0].plot(history.epoch, history.history['val_loss'], label='val_loss')\n",
    "ax[0].set(xlabel='Epoch', ylabel='Loss')\n",
    "ax[0].legend()\n",
    "\n",
    "ax[1].set_title('Training performance (Accuracy)')\n",
    "ax[1].plot(history.epoch, history.history['acc'], label='acc')\n",
    "ax[1].plot(history.epoch, history.history['val_acc'], label='val_acc')\n",
    "ax[1].set(xlabel='Epoch', ylabel='Accuracy')\n",
    "ax[1].legend(loc='best')"
   ]
  },
  {
   "cell_type": "code",
   "execution_count": null,
   "metadata": {},
   "outputs": [],
   "source": [
    "def test_generator(X, batch_size):\n",
    "    indices = np.arange(X.shape[0])\n",
    "    while True:\n",
    "        img_cahce = []\n",
    "        np.random.shuffle(indices)\n",
    "        for i in indices:\n",
    "            img_cahce.append(X[i])\n",
    "            if len(img_cahce) == batch_size:\n",
    "                X_batch = np.array(img_cahce)\n",
    "                img_cahce = []\n",
    "                yield X_batch"
   ]
  },
  {
   "cell_type": "code",
   "execution_count": null,
   "metadata": {},
   "outputs": [],
   "source": [
    "new_test = img_test\n",
    "\n",
    "# 画像のラベルを推定する\n",
    "batch_size = 1\n",
    "pred = model.predict_generator(test_generator(img_test,batch_size),\n",
    "                               steps=len(img_test)//batch_size,\n",
    "                               verbose=1)"
   ]
  },
  {
   "cell_type": "code",
   "execution_count": null,
   "metadata": {},
   "outputs": [],
   "source": [
    "pred[0]"
   ]
  },
  {
   "cell_type": "code",
   "execution_count": null,
   "metadata": {},
   "outputs": [],
   "source": [
    "max(pred[0])"
   ]
  },
  {
   "cell_type": "code",
   "execution_count": null,
   "metadata": {},
   "outputs": [],
   "source": [
    "types[9]"
   ]
  },
  {
   "cell_type": "code",
   "execution_count": null,
   "metadata": {},
   "outputs": [],
   "source": []
  }
 ],
 "metadata": {
  "kernelspec": {
   "display_name": "Python 3",
   "language": "python",
   "name": "python3"
  },
  "language_info": {
   "codemirror_mode": {
    "name": "ipython",
    "version": 3
   },
   "file_extension": ".py",
   "mimetype": "text/x-python",
   "name": "python",
   "nbconvert_exporter": "python",
   "pygments_lexer": "ipython3",
   "version": "3.7.3"
  }
 },
 "nbformat": 4,
 "nbformat_minor": 2
}
