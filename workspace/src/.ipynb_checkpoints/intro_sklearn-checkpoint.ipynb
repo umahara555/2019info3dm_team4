{
 "cells": [
  {
   "cell_type": "markdown",
   "metadata": {},
   "source": [
    "# jupyter + sklearn入門\n",
    "- jupyter notebook ≒ 実行・編集できるノート\n",
    "- Cell単位で管理。note (markdown) or code (python).\n",
    "    - このセルはMarkdown形式。ダブルクリックしてみよう。\n",
    "    - 「Shift + Enter」でそのセルを実行することができる。\n",
    "        - Markdown形式ならそのビューに変換される。\n",
    "        - code形式ならその実行結果がコードセル下段に出力される。\n",
    "            - 編集<->実行を繰り返しやすい。\n",
    "- Cellは、任意のタイミングで追加・削除・移動が可能。\n",
    "## jupyter注意点\n",
    "- Cellを実行すると、ずっとそのプロセスはリソース（主にメモリ）を使い続ける。"
   ]
  },
  {
   "cell_type": "markdown",
   "metadata": {},
   "source": [
    "## データセット(iris dataset)を眺めてみる"
   ]
  },
  {
   "cell_type": "code",
   "execution_count": 3,
   "metadata": {},
   "outputs": [
    {
     "name": "stdout",
     "output_type": "stream",
     "text": [
      "###################\n",
      "['setosa' 'versicolor' 'virginica']\n",
      "['sepal length (cm)', 'sepal width (cm)', 'petal length (cm)', 'petal width (cm)']\n"
     ]
    }
   ],
   "source": [
    "from sklearn import datasets #予め用意されてるデータセット読み込み用ライブラリ\n",
    "iris = datasets.load_iris() #datasets.load[tab]\n",
    "\n",
    "#sklearnで用意されてるデータセットで、*おおよそ*共通している部分\n",
    "#print(iris.DESCR) #.DESCR: 概要説明\n",
    "data = iris.data #.data: データセット(教師データを除外した特徴ベクトルの集合)\n",
    "target = iris.target #.target: 教師データ\n",
    "print(\"###################\")\n",
    "print(iris.target_names) #教師データの種類\n",
    "print(iris.feature_names)"
   ]
  },
  {
   "cell_type": "markdown",
   "metadata": {},
   "source": [
    "## 分類問題として学習＆予測してみる。\n",
    "- ここでは「全データの内、最後の1つを除いた全サンプル」で学習させ、学習したモデルを用いて「学習時に与えなかった最後のサンプル」を予測させてみる。"
   ]
  },
  {
   "cell_type": "code",
   "execution_count": 11,
   "metadata": {},
   "outputs": [
    {
     "name": "stdout",
     "output_type": "stream",
     "text": [
      "実際の答え=2, 予測結果=[2]\n",
      "0.98\n"
     ]
    }
   ],
   "source": [
    "#学習器モジュールの読み込み\n",
    "from sklearn import svm\n",
    "\n",
    "#学習器の初期化。\n",
    "#本来は、パラメータ要調整。どんなパラメータがあるかはドキュメント参照したり、help()を利用しよう。\n",
    "clf = svm.SVC(gamma=0.001, C=100.)\n",
    "\n",
    "#学習。\n",
    "#教師あり学習の場合、データセット＋教師データを与えてfitメソッドを実行。\n",
    "clf.fit(data[:-1], target[:-1])\n",
    "\n",
    "#予測。\n",
    "#予測させたいデータのみをpredictメソッドに与えて実行。\n",
    "#注意: sklearn 0.18? 以降から、「サンプル数1個」に対する予測をさせる際の記載が変更。\n",
    "#  旧記述: clf.predict(data[-1])\n",
    "#  新記述: clf.predict(data[-1:])\n",
    "#旧記述は2017/10/16時点でまだ実行できるが、DeprecationWarningになる。\n",
    "result = clf.predict(data[-1:])\n",
    "print(\"実際の答え={0}, 予測結果={1}\".format(target[-1], result))\n",
    "\n",
    "#スコア関数。\n",
    "#「いい感じ」にスコア化してくれるが、どうスコア化してくれてるか確認するのを忘れずに。\n",
    "result = clf.score(data, target)\n",
    "print(result)"
   ]
  },
  {
   "cell_type": "markdown",
   "metadata": {},
   "source": [
    "## 学習を終えたモデルを保存したい -> シリアライズ"
   ]
  },
  {
   "cell_type": "code",
   "execution_count": 12,
   "metadata": {},
   "outputs": [
    {
     "data": {
      "text/plain": [
       "array([ True,  True,  True,  True,  True,  True,  True,  True,  True,\n",
       "        True,  True,  True,  True,  True,  True,  True,  True,  True,\n",
       "        True,  True,  True,  True,  True,  True,  True,  True,  True,\n",
       "        True,  True,  True,  True,  True,  True,  True,  True,  True,\n",
       "        True,  True,  True,  True,  True,  True,  True,  True,  True,\n",
       "        True,  True,  True,  True,  True,  True,  True,  True,  True,\n",
       "        True,  True,  True,  True,  True,  True,  True,  True,  True,\n",
       "        True,  True,  True,  True,  True,  True,  True,  True,  True,\n",
       "        True,  True,  True,  True,  True,  True,  True,  True,  True,\n",
       "        True,  True,  True,  True,  True,  True,  True,  True,  True,\n",
       "        True,  True,  True,  True,  True,  True,  True,  True,  True,\n",
       "        True,  True,  True,  True,  True,  True,  True,  True,  True,\n",
       "        True,  True,  True,  True,  True,  True,  True,  True,  True,\n",
       "        True,  True,  True,  True,  True,  True,  True,  True,  True,\n",
       "        True,  True,  True,  True,  True,  True,  True,  True,  True,\n",
       "        True,  True,  True,  True,  True,  True,  True,  True,  True,\n",
       "        True,  True,  True,  True,  True,  True])"
      ]
     },
     "execution_count": 12,
     "metadata": {},
     "output_type": "execute_result"
    }
   ],
   "source": [
    "import pickle\n",
    "\n",
    "#学習器の保存。任意のオブジェクトをファイルに保存可能。\n",
    "with open('PredictiveModel.pickle', 'wb') as f:\n",
    "    pickle.dump(clf, f, pickle.HIGHEST_PROTOCOL)\n",
    "\n",
    "#保存したファイルからモデルを復元\n",
    "with open('PredictiveModel.pickle', 'rb') as f:\n",
    "    clf2 = pickle.load(f)\n",
    "\n",
    "#同じ結果になるか確認\n",
    "clf.predict(data) == clf2.predict(data)"
   ]
  },
  {
   "cell_type": "code",
   "execution_count": null,
   "metadata": {},
   "outputs": [],
   "source": []
  }
 ],
 "metadata": {
  "kernelspec": {
   "display_name": "Python 3",
   "language": "python",
   "name": "python3"
  },
  "language_info": {
   "codemirror_mode": {
    "name": "ipython",
    "version": 3
   },
   "file_extension": ".py",
   "mimetype": "text/x-python",
   "name": "python",
   "nbconvert_exporter": "python",
   "pygments_lexer": "ipython3",
   "version": "3.6.5"
  }
 },
 "nbformat": 4,
 "nbformat_minor": 2
}
