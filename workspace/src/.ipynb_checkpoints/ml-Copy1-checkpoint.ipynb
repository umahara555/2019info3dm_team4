{
 "cells": [
  {
   "cell_type": "markdown",
   "metadata": {},
   "source": [
    "## 実行環境の確認"
   ]
  },
  {
   "cell_type": "code",
   "execution_count": 1,
   "metadata": {},
   "outputs": [
    {
     "name": "stderr",
     "output_type": "stream",
     "text": [
      "Using TensorFlow backend.\n"
     ]
    },
    {
     "name": "stdout",
     "output_type": "stream",
     "text": [
      "keras=2.2.4\n",
      "tensorflow=1.13.1\n",
      "dask=1.1.4\n"
     ]
    }
   ],
   "source": [
    "import keras\n",
    "import tensorflow as tf\n",
    "import dask\n",
    "\n",
    "import warnings\n",
    "warnings.filterwarnings('ignore')\n",
    "\n",
    "print(\"keras={}\".format(keras.__version__))\n",
    "print(\"tensorflow={}\".format(tf.__version__))\n",
    "print(\"dask={}\".format(dask.__version__))"
   ]
  },
  {
   "cell_type": "markdown",
   "metadata": {},
   "source": [
    "## モジュールのインポート"
   ]
  },
  {
   "cell_type": "code",
   "execution_count": 2,
   "metadata": {},
   "outputs": [],
   "source": [
    "from keras.models import Sequential, Model\n",
    "from keras.layers import Input, Dense"
   ]
  },
  {
   "cell_type": "markdown",
   "metadata": {},
   "source": [
    "## データの読み込み"
   ]
  },
  {
   "cell_type": "code",
   "execution_count": 3,
   "metadata": {},
   "outputs": [],
   "source": [
    "import datasets\n",
    "X,Y = datasets.load_data()"
   ]
  },
  {
   "cell_type": "markdown",
   "metadata": {},
   "source": [
    "## データの可視化"
   ]
  },
  {
   "cell_type": "code",
   "execution_count": 4,
   "metadata": {},
   "outputs": [],
   "source": [
    "import numpy as np\n",
    "from matplotlib import pylab as plt\n",
    "%matplotlib inline"
   ]
  },
  {
   "cell_type": "code",
   "execution_count": 5,
   "metadata": {},
   "outputs": [],
   "source": [
    "types = np.array([\n",
    "        \"Normal\",\n",
    "        \"Fire\",\n",
    "        \"Water\",\n",
    "        \"Electric\",\n",
    "        \"Grass\",\n",
    "        \"Ice\",\n",
    "        \"Fighting\",\n",
    "        \"Poison\",\n",
    "        \"Ground\",\n",
    "        \"Flying\",\n",
    "        \"Psychic\",\n",
    "        \"Bug\",\n",
    "        \"Rock\",\n",
    "        \"Ghost\",\n",
    "        \"Dragon\",\n",
    "        \"Dark\",\n",
    "        \"Steel\",\n",
    "        \"Fairy\"\n",
    "        ])"
   ]
  },
  {
   "cell_type": "code",
   "execution_count": null,
   "metadata": {},
   "outputs": [],
   "source": [
    "# 各ラベルごとに画像を10枚格納\n",
    "# img_list = []\n",
    "# for for_1 in range(18):\n",
    "#     choice_idx = np.random.choice(np.where(Y == for_1)[0], 10)\n",
    "#     img_list.append(X[choice_idx])"
   ]
  },
  {
   "cell_type": "code",
   "execution_count": null,
   "metadata": {},
   "outputs": [],
   "source": [
    "# データの可視化\n",
    "# for for_1 in range(18):\n",
    "#     fig, ax = plt.subplots(1, 10, figsize=(18, 8))\n",
    "#     for for_2 in range(10):\n",
    "#         ax[for_2].imshow(img_list[for_1][for_2].reshape(215, 215, 4))\n",
    "#         ax[for_2].set_title(types[for_1])\n",
    "#         ax[for_2].axis('off')"
   ]
  },
  {
   "cell_type": "markdown",
   "metadata": {},
   "source": [
    "## データの前処理"
   ]
  },
  {
   "cell_type": "code",
   "execution_count": 6,
   "metadata": {},
   "outputs": [],
   "source": [
    "X = X[:801]\n",
    "type1 = Y[:801]\n",
    "type2 = Y[801:]\n",
    "\n",
    "X_train = X[:721]\n",
    "y_train1 = type1[:721]\n",
    "y_train2 = type2[:721]\n",
    "\n",
    "X_test = X[721:]\n",
    "y_test1 = type1[721:]\n",
    "y_test2 = type2[721:]"
   ]
  },
  {
   "cell_type": "code",
   "execution_count": 7,
   "metadata": {},
   "outputs": [],
   "source": [
    "img_rows, img_cols = 215,215\n",
    "img_channels = 4"
   ]
  },
  {
   "cell_type": "code",
   "execution_count": 8,
   "metadata": {},
   "outputs": [],
   "source": [
    "X_train = X_train.astype('float32') / 255.\n",
    "X_test = X_test.astype('float32') / 255."
   ]
  },
  {
   "cell_type": "code",
   "execution_count": 9,
   "metadata": {},
   "outputs": [],
   "source": [
    "nb_classes = 18 # 正解のパターン数"
   ]
  },
  {
   "cell_type": "code",
   "execution_count": 10,
   "metadata": {},
   "outputs": [],
   "source": [
    "from keras.utils import np_utils\n",
    "# クラスベクトルをバイナリクラスの行列に変換する\n",
    "Y_train1 = np_utils.to_categorical(y_train1, nb_classes)\n",
    "Y_train2 = np_utils.to_categorical(y_train2, nb_classes)\n",
    "Y_test1 = np_utils.to_categorical(y_test1, nb_classes)\n",
    "Y_test2 = np_utils.to_categorical(y_test2, nb_classes)"
   ]
  },
  {
   "cell_type": "code",
   "execution_count": 11,
   "metadata": {},
   "outputs": [
    {
     "name": "stdout",
     "output_type": "stream",
     "text": [
      "4\n",
      "7\n"
     ]
    }
   ],
   "source": [
    "# クラスベクトル(ここでは一枚目の正解値は4と7)\n",
    "print(y_train1[0])\n",
    "print(y_train2[0])"
   ]
  },
  {
   "cell_type": "code",
   "execution_count": 12,
   "metadata": {},
   "outputs": [
    {
     "name": "stdout",
     "output_type": "stream",
     "text": [
      "[0. 1. 0. 0. 0. 0. 0. 0. 0. 0. 0. 0. 0. 0. 0. 0. 0. 0.]\n",
      "[0. 1. 0. 0. 0. 0. 0. 0. 0. 0. 0. 0. 0. 0. 0. 0. 0. 0.]\n"
     ]
    }
   ],
   "source": [
    "# バイナリクラスの行列\n",
    "print(Y_train1[4])\n",
    "print(Y_train2[4])"
   ]
  },
  {
   "cell_type": "code",
   "execution_count": 13,
   "metadata": {},
   "outputs": [],
   "source": [
    "# backendの違いによる次元数の入力型の調整(おまじない)\n",
    "from keras import backend as K\n",
    "\n",
    "if K.image_data_format() == 'channels_first':\n",
    "    X_train = X_train.reshape(X_train.shape[0], img_channels, img_rows, img_cols)\n",
    "    X_test = X_test.reshape(X_test.shape[0], img_channels, img_rows, img_cols)\n",
    "    input_shape = (img_channels, img_rows, img_cols)\n",
    "else:\n",
    "    X_train = X_train.reshape(X_train.shape[0], img_rows, img_cols, img_channels)\n",
    "    X_test = X_test.reshape(X_test.shape[0], img_rows, img_cols, img_channels)\n",
    "    input_shape = (img_rows, img_cols, img_channels)"
   ]
  },
  {
   "cell_type": "markdown",
   "metadata": {},
   "source": [
    "## モデルの構築"
   ]
  },
  {
   "cell_type": "code",
   "execution_count": 40,
   "metadata": {},
   "outputs": [],
   "source": [
    "from keras.layers import Dropout,Flatten,Conv2D,MaxPooling2D,Conv1D"
   ]
  },
  {
   "cell_type": "code",
   "execution_count": null,
   "metadata": {},
   "outputs": [],
   "source": [
    "# input_layer = Input(shape=input_shape)\n",
    "# m_add = Conv2D(16, kernel_size=(3, 3), padding='same', activation=\"relu\")(input_layer)\n",
    "# m_add = MaxPooling2D(pool_size=(2,2))(m_add)\n",
    "# m_add = Flatten()(m_add)\n",
    "# m_add = Dropout(0.5)(m_add)\n",
    "# output_layer1 = Dense(nb_classes, activation='softmax', name='type1_output')(m_add)\n",
    "# output_layer2 = Dense(nb_classes, activation='softmax', name='type2_output')(m_add)\n",
    "# model = Model(inputs=input_layer, outputs=[output_layer1, output_layer2])"
   ]
  },
  {
   "cell_type": "code",
   "execution_count": 43,
   "metadata": {},
   "outputs": [],
   "source": [
    "input_layer = Input(shape=input_shape)\n",
    "\n",
    "m = Conv2D(4, kernel_size=(10, 10), padding='same', activation=\"relu\")(input_layer)\n",
    "m = MaxPooling2D(pool_size=(5,5))(m)\n",
    "m = Conv2D(8, kernel_size=(5, 5), padding='same', activation=\"relu\")(m)\n",
    "m = MaxPooling2D(pool_size=(3,3))(m)\n",
    "m = Flatten()(m)\n",
    "m = Dropout(0.5)(m)\n",
    "m = Dense(324, activation='softmax')(m)\n",
    "output_layer1 = Dense(nb_classes, activation='softmax', name='type1_output')(m)\n",
    "output_layer2 = Dense(nb_classes, activation='softmax', name='type2_output')(m)\n",
    "\n",
    "model = Model(inputs=input_layer, outputs=[output_layer1, output_layer2])"
   ]
  },
  {
   "cell_type": "code",
   "execution_count": 44,
   "metadata": {},
   "outputs": [
    {
     "name": "stdout",
     "output_type": "stream",
     "text": [
      "__________________________________________________________________________________________________\n",
      "Layer (type)                    Output Shape         Param #     Connected to                     \n",
      "==================================================================================================\n",
      "input_10 (InputLayer)           (None, 215, 215, 4)  0                                            \n",
      "__________________________________________________________________________________________________\n",
      "conv2d_24 (Conv2D)              (None, 215, 215, 4)  1604        input_10[0][0]                   \n",
      "__________________________________________________________________________________________________\n",
      "max_pooling2d_21 (MaxPooling2D) (None, 43, 43, 4)    0           conv2d_24[0][0]                  \n",
      "__________________________________________________________________________________________________\n",
      "conv2d_25 (Conv2D)              (None, 43, 43, 8)    808         max_pooling2d_21[0][0]           \n",
      "__________________________________________________________________________________________________\n",
      "max_pooling2d_22 (MaxPooling2D) (None, 14, 14, 8)    0           conv2d_25[0][0]                  \n",
      "__________________________________________________________________________________________________\n",
      "flatten_11 (Flatten)            (None, 1568)         0           max_pooling2d_22[0][0]           \n",
      "__________________________________________________________________________________________________\n",
      "dropout_10 (Dropout)            (None, 1568)         0           flatten_11[0][0]                 \n",
      "__________________________________________________________________________________________________\n",
      "dense_2 (Dense)                 (None, 324)          508356      dropout_10[0][0]                 \n",
      "__________________________________________________________________________________________________\n",
      "type1_output (Dense)            (None, 18)           5850        dense_2[0][0]                    \n",
      "__________________________________________________________________________________________________\n",
      "type2_output (Dense)            (None, 18)           5850        dense_2[0][0]                    \n",
      "==================================================================================================\n",
      "Total params: 522,468\n",
      "Trainable params: 522,468\n",
      "Non-trainable params: 0\n",
      "__________________________________________________________________________________________________\n"
     ]
    }
   ],
   "source": [
    "model.summary()"
   ]
  },
  {
   "cell_type": "code",
   "execution_count": 45,
   "metadata": {},
   "outputs": [
    {
     "data": {
      "image/svg+xml": [
       "<svg height=\"719pt\" viewBox=\"0.00 0.00 694.00 719.00\" width=\"694pt\" xmlns=\"http://www.w3.org/2000/svg\" xmlns:xlink=\"http://www.w3.org/1999/xlink\">\n",
       "<g class=\"graph\" id=\"graph0\" transform=\"scale(1 1) rotate(0) translate(4 715)\">\n",
       "<title>G</title>\n",
       "<polygon fill=\"#ffffff\" points=\"-4,4 -4,-715 690,-715 690,4 -4,4\" stroke=\"transparent\"/>\n",
       "<!-- 139637296065448 -->\n",
       "<g class=\"node\" id=\"node1\">\n",
       "<title>139637296065448</title>\n",
       "<polygon fill=\"none\" points=\"147,-664.5 147,-710.5 539,-710.5 539,-664.5 147,-664.5\" stroke=\"#000000\"/>\n",
       "<text fill=\"#000000\" font-family=\"Times,serif\" font-size=\"14.00\" text-anchor=\"middle\" x=\"231.5\" y=\"-683.8\">input_10: InputLayer</text>\n",
       "<polyline fill=\"none\" points=\"316,-664.5 316,-710.5 \" stroke=\"#000000\"/>\n",
       "<text fill=\"#000000\" font-family=\"Times,serif\" font-size=\"14.00\" text-anchor=\"middle\" x=\"350\" y=\"-695.3\">input:</text>\n",
       "<polyline fill=\"none\" points=\"316,-687.5 384,-687.5 \" stroke=\"#000000\"/>\n",
       "<text fill=\"#000000\" font-family=\"Times,serif\" font-size=\"14.00\" text-anchor=\"middle\" x=\"350\" y=\"-672.3\">output:</text>\n",
       "<polyline fill=\"none\" points=\"384,-664.5 384,-710.5 \" stroke=\"#000000\"/>\n",
       "<text fill=\"#000000\" font-family=\"Times,serif\" font-size=\"14.00\" text-anchor=\"middle\" x=\"461.5\" y=\"-695.3\">(None, 215, 215, 4)</text>\n",
       "<polyline fill=\"none\" points=\"384,-687.5 539,-687.5 \" stroke=\"#000000\"/>\n",
       "<text fill=\"#000000\" font-family=\"Times,serif\" font-size=\"14.00\" text-anchor=\"middle\" x=\"461.5\" y=\"-672.3\">(None, 215, 215, 4)</text>\n",
       "</g>\n",
       "<!-- 139637296065560 -->\n",
       "<g class=\"node\" id=\"node2\">\n",
       "<title>139637296065560</title>\n",
       "<polygon fill=\"none\" points=\"151.5,-581.5 151.5,-627.5 534.5,-627.5 534.5,-581.5 151.5,-581.5\" stroke=\"#000000\"/>\n",
       "<text fill=\"#000000\" font-family=\"Times,serif\" font-size=\"14.00\" text-anchor=\"middle\" x=\"231.5\" y=\"-600.8\">conv2d_24: Conv2D</text>\n",
       "<polyline fill=\"none\" points=\"311.5,-581.5 311.5,-627.5 \" stroke=\"#000000\"/>\n",
       "<text fill=\"#000000\" font-family=\"Times,serif\" font-size=\"14.00\" text-anchor=\"middle\" x=\"345.5\" y=\"-612.3\">input:</text>\n",
       "<polyline fill=\"none\" points=\"311.5,-604.5 379.5,-604.5 \" stroke=\"#000000\"/>\n",
       "<text fill=\"#000000\" font-family=\"Times,serif\" font-size=\"14.00\" text-anchor=\"middle\" x=\"345.5\" y=\"-589.3\">output:</text>\n",
       "<polyline fill=\"none\" points=\"379.5,-581.5 379.5,-627.5 \" stroke=\"#000000\"/>\n",
       "<text fill=\"#000000\" font-family=\"Times,serif\" font-size=\"14.00\" text-anchor=\"middle\" x=\"457\" y=\"-612.3\">(None, 215, 215, 4)</text>\n",
       "<polyline fill=\"none\" points=\"379.5,-604.5 534.5,-604.5 \" stroke=\"#000000\"/>\n",
       "<text fill=\"#000000\" font-family=\"Times,serif\" font-size=\"14.00\" text-anchor=\"middle\" x=\"457\" y=\"-589.3\">(None, 215, 215, 4)</text>\n",
       "</g>\n",
       "<!-- 139637296065448&#45;&gt;139637296065560 -->\n",
       "<g class=\"edge\" id=\"edge1\">\n",
       "<title>139637296065448-&gt;139637296065560</title>\n",
       "<path d=\"M343,-664.3799C343,-656.1745 343,-646.7679 343,-637.8786\" fill=\"none\" stroke=\"#000000\"/>\n",
       "<polygon fill=\"#000000\" points=\"346.5001,-637.784 343,-627.784 339.5001,-637.784 346.5001,-637.784\" stroke=\"#000000\"/>\n",
       "</g>\n",
       "<!-- 139637295698720 -->\n",
       "<g class=\"node\" id=\"node3\">\n",
       "<title>139637295698720</title>\n",
       "<polygon fill=\"none\" points=\"100,-498.5 100,-544.5 586,-544.5 586,-498.5 100,-498.5\" stroke=\"#000000\"/>\n",
       "<text fill=\"#000000\" font-family=\"Times,serif\" font-size=\"14.00\" text-anchor=\"middle\" x=\"231.5\" y=\"-517.8\">max_pooling2d_21: MaxPooling2D</text>\n",
       "<polyline fill=\"none\" points=\"363,-498.5 363,-544.5 \" stroke=\"#000000\"/>\n",
       "<text fill=\"#000000\" font-family=\"Times,serif\" font-size=\"14.00\" text-anchor=\"middle\" x=\"397\" y=\"-529.3\">input:</text>\n",
       "<polyline fill=\"none\" points=\"363,-521.5 431,-521.5 \" stroke=\"#000000\"/>\n",
       "<text fill=\"#000000\" font-family=\"Times,serif\" font-size=\"14.00\" text-anchor=\"middle\" x=\"397\" y=\"-506.3\">output:</text>\n",
       "<polyline fill=\"none\" points=\"431,-498.5 431,-544.5 \" stroke=\"#000000\"/>\n",
       "<text fill=\"#000000\" font-family=\"Times,serif\" font-size=\"14.00\" text-anchor=\"middle\" x=\"508.5\" y=\"-529.3\">(None, 215, 215, 4)</text>\n",
       "<polyline fill=\"none\" points=\"431,-521.5 586,-521.5 \" stroke=\"#000000\"/>\n",
       "<text fill=\"#000000\" font-family=\"Times,serif\" font-size=\"14.00\" text-anchor=\"middle\" x=\"508.5\" y=\"-506.3\">(None, 43, 43, 4)</text>\n",
       "</g>\n",
       "<!-- 139637296065560&#45;&gt;139637295698720 -->\n",
       "<g class=\"edge\" id=\"edge2\">\n",
       "<title>139637296065560-&gt;139637295698720</title>\n",
       "<path d=\"M343,-581.3799C343,-573.1745 343,-563.7679 343,-554.8786\" fill=\"none\" stroke=\"#000000\"/>\n",
       "<polygon fill=\"#000000\" points=\"346.5001,-554.784 343,-544.784 339.5001,-554.784 346.5001,-554.784\" stroke=\"#000000\"/>\n",
       "</g>\n",
       "<!-- 139637295699056 -->\n",
       "<g class=\"node\" id=\"node4\">\n",
       "<title>139637295699056</title>\n",
       "<polygon fill=\"none\" points=\"160.5,-415.5 160.5,-461.5 525.5,-461.5 525.5,-415.5 160.5,-415.5\" stroke=\"#000000\"/>\n",
       "<text fill=\"#000000\" font-family=\"Times,serif\" font-size=\"14.00\" text-anchor=\"middle\" x=\"240.5\" y=\"-434.8\">conv2d_25: Conv2D</text>\n",
       "<polyline fill=\"none\" points=\"320.5,-415.5 320.5,-461.5 \" stroke=\"#000000\"/>\n",
       "<text fill=\"#000000\" font-family=\"Times,serif\" font-size=\"14.00\" text-anchor=\"middle\" x=\"354.5\" y=\"-446.3\">input:</text>\n",
       "<polyline fill=\"none\" points=\"320.5,-438.5 388.5,-438.5 \" stroke=\"#000000\"/>\n",
       "<text fill=\"#000000\" font-family=\"Times,serif\" font-size=\"14.00\" text-anchor=\"middle\" x=\"354.5\" y=\"-423.3\">output:</text>\n",
       "<polyline fill=\"none\" points=\"388.5,-415.5 388.5,-461.5 \" stroke=\"#000000\"/>\n",
       "<text fill=\"#000000\" font-family=\"Times,serif\" font-size=\"14.00\" text-anchor=\"middle\" x=\"457\" y=\"-446.3\">(None, 43, 43, 4)</text>\n",
       "<polyline fill=\"none\" points=\"388.5,-438.5 525.5,-438.5 \" stroke=\"#000000\"/>\n",
       "<text fill=\"#000000\" font-family=\"Times,serif\" font-size=\"14.00\" text-anchor=\"middle\" x=\"457\" y=\"-423.3\">(None, 43, 43, 8)</text>\n",
       "</g>\n",
       "<!-- 139637295698720&#45;&gt;139637295699056 -->\n",
       "<g class=\"edge\" id=\"edge3\">\n",
       "<title>139637295698720-&gt;139637295699056</title>\n",
       "<path d=\"M343,-498.3799C343,-490.1745 343,-480.7679 343,-471.8786\" fill=\"none\" stroke=\"#000000\"/>\n",
       "<polygon fill=\"#000000\" points=\"346.5001,-471.784 343,-461.784 339.5001,-471.784 346.5001,-471.784\" stroke=\"#000000\"/>\n",
       "</g>\n",
       "<!-- 139637295699000 -->\n",
       "<g class=\"node\" id=\"node5\">\n",
       "<title>139637295699000</title>\n",
       "<polygon fill=\"none\" points=\"109,-332.5 109,-378.5 577,-378.5 577,-332.5 109,-332.5\" stroke=\"#000000\"/>\n",
       "<text fill=\"#000000\" font-family=\"Times,serif\" font-size=\"14.00\" text-anchor=\"middle\" x=\"240.5\" y=\"-351.8\">max_pooling2d_22: MaxPooling2D</text>\n",
       "<polyline fill=\"none\" points=\"372,-332.5 372,-378.5 \" stroke=\"#000000\"/>\n",
       "<text fill=\"#000000\" font-family=\"Times,serif\" font-size=\"14.00\" text-anchor=\"middle\" x=\"406\" y=\"-363.3\">input:</text>\n",
       "<polyline fill=\"none\" points=\"372,-355.5 440,-355.5 \" stroke=\"#000000\"/>\n",
       "<text fill=\"#000000\" font-family=\"Times,serif\" font-size=\"14.00\" text-anchor=\"middle\" x=\"406\" y=\"-340.3\">output:</text>\n",
       "<polyline fill=\"none\" points=\"440,-332.5 440,-378.5 \" stroke=\"#000000\"/>\n",
       "<text fill=\"#000000\" font-family=\"Times,serif\" font-size=\"14.00\" text-anchor=\"middle\" x=\"508.5\" y=\"-363.3\">(None, 43, 43, 8)</text>\n",
       "<polyline fill=\"none\" points=\"440,-355.5 577,-355.5 \" stroke=\"#000000\"/>\n",
       "<text fill=\"#000000\" font-family=\"Times,serif\" font-size=\"14.00\" text-anchor=\"middle\" x=\"508.5\" y=\"-340.3\">(None, 14, 14, 8)</text>\n",
       "</g>\n",
       "<!-- 139637295699056&#45;&gt;139637295699000 -->\n",
       "<g class=\"edge\" id=\"edge4\">\n",
       "<title>139637295699056-&gt;139637295699000</title>\n",
       "<path d=\"M343,-415.3799C343,-407.1745 343,-397.7679 343,-388.8786\" fill=\"none\" stroke=\"#000000\"/>\n",
       "<polygon fill=\"#000000\" points=\"346.5001,-388.784 343,-378.784 339.5001,-388.784 346.5001,-388.784\" stroke=\"#000000\"/>\n",
       "</g>\n",
       "<!-- 139637295803472 -->\n",
       "<g class=\"node\" id=\"node6\">\n",
       "<title>139637295803472</title>\n",
       "<polygon fill=\"none\" points=\"165.5,-249.5 165.5,-295.5 520.5,-295.5 520.5,-249.5 165.5,-249.5\" stroke=\"#000000\"/>\n",
       "<text fill=\"#000000\" font-family=\"Times,serif\" font-size=\"14.00\" text-anchor=\"middle\" x=\"240.5\" y=\"-268.8\">flatten_11: Flatten</text>\n",
       "<polyline fill=\"none\" points=\"315.5,-249.5 315.5,-295.5 \" stroke=\"#000000\"/>\n",
       "<text fill=\"#000000\" font-family=\"Times,serif\" font-size=\"14.00\" text-anchor=\"middle\" x=\"349.5\" y=\"-280.3\">input:</text>\n",
       "<polyline fill=\"none\" points=\"315.5,-272.5 383.5,-272.5 \" stroke=\"#000000\"/>\n",
       "<text fill=\"#000000\" font-family=\"Times,serif\" font-size=\"14.00\" text-anchor=\"middle\" x=\"349.5\" y=\"-257.3\">output:</text>\n",
       "<polyline fill=\"none\" points=\"383.5,-249.5 383.5,-295.5 \" stroke=\"#000000\"/>\n",
       "<text fill=\"#000000\" font-family=\"Times,serif\" font-size=\"14.00\" text-anchor=\"middle\" x=\"452\" y=\"-280.3\">(None, 14, 14, 8)</text>\n",
       "<polyline fill=\"none\" points=\"383.5,-272.5 520.5,-272.5 \" stroke=\"#000000\"/>\n",
       "<text fill=\"#000000\" font-family=\"Times,serif\" font-size=\"14.00\" text-anchor=\"middle\" x=\"452\" y=\"-257.3\">(None, 1568)</text>\n",
       "</g>\n",
       "<!-- 139637295699000&#45;&gt;139637295803472 -->\n",
       "<g class=\"edge\" id=\"edge5\">\n",
       "<title>139637295699000-&gt;139637295803472</title>\n",
       "<path d=\"M343,-332.3799C343,-324.1745 343,-314.7679 343,-305.8786\" fill=\"none\" stroke=\"#000000\"/>\n",
       "<polygon fill=\"#000000\" points=\"346.5001,-305.784 343,-295.784 339.5001,-305.784 346.5001,-305.784\" stroke=\"#000000\"/>\n",
       "</g>\n",
       "<!-- 139637295803416 -->\n",
       "<g class=\"node\" id=\"node7\">\n",
       "<title>139637295803416</title>\n",
       "<polygon fill=\"none\" points=\"171,-166.5 171,-212.5 515,-212.5 515,-166.5 171,-166.5\" stroke=\"#000000\"/>\n",
       "<text fill=\"#000000\" font-family=\"Times,serif\" font-size=\"14.00\" text-anchor=\"middle\" x=\"254\" y=\"-185.8\">dropout_10: Dropout</text>\n",
       "<polyline fill=\"none\" points=\"337,-166.5 337,-212.5 \" stroke=\"#000000\"/>\n",
       "<text fill=\"#000000\" font-family=\"Times,serif\" font-size=\"14.00\" text-anchor=\"middle\" x=\"371\" y=\"-197.3\">input:</text>\n",
       "<polyline fill=\"none\" points=\"337,-189.5 405,-189.5 \" stroke=\"#000000\"/>\n",
       "<text fill=\"#000000\" font-family=\"Times,serif\" font-size=\"14.00\" text-anchor=\"middle\" x=\"371\" y=\"-174.3\">output:</text>\n",
       "<polyline fill=\"none\" points=\"405,-166.5 405,-212.5 \" stroke=\"#000000\"/>\n",
       "<text fill=\"#000000\" font-family=\"Times,serif\" font-size=\"14.00\" text-anchor=\"middle\" x=\"460\" y=\"-197.3\">(None, 1568)</text>\n",
       "<polyline fill=\"none\" points=\"405,-189.5 515,-189.5 \" stroke=\"#000000\"/>\n",
       "<text fill=\"#000000\" font-family=\"Times,serif\" font-size=\"14.00\" text-anchor=\"middle\" x=\"460\" y=\"-174.3\">(None, 1568)</text>\n",
       "</g>\n",
       "<!-- 139637295803472&#45;&gt;139637295803416 -->\n",
       "<g class=\"edge\" id=\"edge6\">\n",
       "<title>139637295803472-&gt;139637295803416</title>\n",
       "<path d=\"M343,-249.3799C343,-241.1745 343,-231.7679 343,-222.8786\" fill=\"none\" stroke=\"#000000\"/>\n",
       "<polygon fill=\"#000000\" points=\"346.5001,-222.784 343,-212.784 339.5001,-222.784 346.5001,-222.784\" stroke=\"#000000\"/>\n",
       "</g>\n",
       "<!-- 139637295897344 -->\n",
       "<g class=\"node\" id=\"node8\">\n",
       "<title>139637295897344</title>\n",
       "<polygon fill=\"none\" points=\"190,-83.5 190,-129.5 496,-129.5 496,-83.5 190,-83.5\" stroke=\"#000000\"/>\n",
       "<text fill=\"#000000\" font-family=\"Times,serif\" font-size=\"14.00\" text-anchor=\"middle\" x=\"254\" y=\"-102.8\">dense_2: Dense</text>\n",
       "<polyline fill=\"none\" points=\"318,-83.5 318,-129.5 \" stroke=\"#000000\"/>\n",
       "<text fill=\"#000000\" font-family=\"Times,serif\" font-size=\"14.00\" text-anchor=\"middle\" x=\"352\" y=\"-114.3\">input:</text>\n",
       "<polyline fill=\"none\" points=\"318,-106.5 386,-106.5 \" stroke=\"#000000\"/>\n",
       "<text fill=\"#000000\" font-family=\"Times,serif\" font-size=\"14.00\" text-anchor=\"middle\" x=\"352\" y=\"-91.3\">output:</text>\n",
       "<polyline fill=\"none\" points=\"386,-83.5 386,-129.5 \" stroke=\"#000000\"/>\n",
       "<text fill=\"#000000\" font-family=\"Times,serif\" font-size=\"14.00\" text-anchor=\"middle\" x=\"441\" y=\"-114.3\">(None, 1568)</text>\n",
       "<polyline fill=\"none\" points=\"386,-106.5 496,-106.5 \" stroke=\"#000000\"/>\n",
       "<text fill=\"#000000\" font-family=\"Times,serif\" font-size=\"14.00\" text-anchor=\"middle\" x=\"441\" y=\"-91.3\">(None, 324)</text>\n",
       "</g>\n",
       "<!-- 139637295803416&#45;&gt;139637295897344 -->\n",
       "<g class=\"edge\" id=\"edge7\">\n",
       "<title>139637295803416-&gt;139637295897344</title>\n",
       "<path d=\"M343,-166.3799C343,-158.1745 343,-148.7679 343,-139.8786\" fill=\"none\" stroke=\"#000000\"/>\n",
       "<polygon fill=\"#000000\" points=\"346.5001,-139.784 343,-129.784 339.5001,-139.784 346.5001,-139.784\" stroke=\"#000000\"/>\n",
       "</g>\n",
       "<!-- 139637295898184 -->\n",
       "<g class=\"node\" id=\"node9\">\n",
       "<title>139637295898184</title>\n",
       "<polygon fill=\"none\" points=\"0,-.5 0,-46.5 334,-46.5 334,-.5 0,-.5\" stroke=\"#000000\"/>\n",
       "<text fill=\"#000000\" font-family=\"Times,serif\" font-size=\"14.00\" text-anchor=\"middle\" x=\"82.5\" y=\"-19.8\">type1_output: Dense</text>\n",
       "<polyline fill=\"none\" points=\"165,-.5 165,-46.5 \" stroke=\"#000000\"/>\n",
       "<text fill=\"#000000\" font-family=\"Times,serif\" font-size=\"14.00\" text-anchor=\"middle\" x=\"199\" y=\"-31.3\">input:</text>\n",
       "<polyline fill=\"none\" points=\"165,-23.5 233,-23.5 \" stroke=\"#000000\"/>\n",
       "<text fill=\"#000000\" font-family=\"Times,serif\" font-size=\"14.00\" text-anchor=\"middle\" x=\"199\" y=\"-8.3\">output:</text>\n",
       "<polyline fill=\"none\" points=\"233,-.5 233,-46.5 \" stroke=\"#000000\"/>\n",
       "<text fill=\"#000000\" font-family=\"Times,serif\" font-size=\"14.00\" text-anchor=\"middle\" x=\"283.5\" y=\"-31.3\">(None, 324)</text>\n",
       "<polyline fill=\"none\" points=\"233,-23.5 334,-23.5 \" stroke=\"#000000\"/>\n",
       "<text fill=\"#000000\" font-family=\"Times,serif\" font-size=\"14.00\" text-anchor=\"middle\" x=\"283.5\" y=\"-8.3\">(None, 18)</text>\n",
       "</g>\n",
       "<!-- 139637295897344&#45;&gt;139637295898184 -->\n",
       "<g class=\"edge\" id=\"edge8\">\n",
       "<title>139637295897344-&gt;139637295898184</title>\n",
       "<path d=\"M293.9742,-83.3799C272.7035,-73.3488 247.6257,-61.5224 225.3994,-51.0406\" fill=\"none\" stroke=\"#000000\"/>\n",
       "<polygon fill=\"#000000\" points=\"226.6054,-47.7398 216.0678,-46.6399 223.6196,-54.071 226.6054,-47.7398\" stroke=\"#000000\"/>\n",
       "</g>\n",
       "<!-- 139637295563664 -->\n",
       "<g class=\"node\" id=\"node10\">\n",
       "<title>139637295563664</title>\n",
       "<polygon fill=\"none\" points=\"352,-.5 352,-46.5 686,-46.5 686,-.5 352,-.5\" stroke=\"#000000\"/>\n",
       "<text fill=\"#000000\" font-family=\"Times,serif\" font-size=\"14.00\" text-anchor=\"middle\" x=\"434.5\" y=\"-19.8\">type2_output: Dense</text>\n",
       "<polyline fill=\"none\" points=\"517,-.5 517,-46.5 \" stroke=\"#000000\"/>\n",
       "<text fill=\"#000000\" font-family=\"Times,serif\" font-size=\"14.00\" text-anchor=\"middle\" x=\"551\" y=\"-31.3\">input:</text>\n",
       "<polyline fill=\"none\" points=\"517,-23.5 585,-23.5 \" stroke=\"#000000\"/>\n",
       "<text fill=\"#000000\" font-family=\"Times,serif\" font-size=\"14.00\" text-anchor=\"middle\" x=\"551\" y=\"-8.3\">output:</text>\n",
       "<polyline fill=\"none\" points=\"585,-.5 585,-46.5 \" stroke=\"#000000\"/>\n",
       "<text fill=\"#000000\" font-family=\"Times,serif\" font-size=\"14.00\" text-anchor=\"middle\" x=\"635.5\" y=\"-31.3\">(None, 324)</text>\n",
       "<polyline fill=\"none\" points=\"585,-23.5 686,-23.5 \" stroke=\"#000000\"/>\n",
       "<text fill=\"#000000\" font-family=\"Times,serif\" font-size=\"14.00\" text-anchor=\"middle\" x=\"635.5\" y=\"-8.3\">(None, 18)</text>\n",
       "</g>\n",
       "<!-- 139637295897344&#45;&gt;139637295563664 -->\n",
       "<g class=\"edge\" id=\"edge9\">\n",
       "<title>139637295897344-&gt;139637295563664</title>\n",
       "<path d=\"M392.0258,-83.3799C413.2965,-73.3488 438.3743,-61.5224 460.6006,-51.0406\" fill=\"none\" stroke=\"#000000\"/>\n",
       "<polygon fill=\"#000000\" points=\"462.3804,-54.071 469.9322,-46.6399 459.3946,-47.7398 462.3804,-54.071\" stroke=\"#000000\"/>\n",
       "</g>\n",
       "</g>\n",
       "</svg>"
      ],
      "text/plain": [
       "<IPython.core.display.SVG object>"
      ]
     },
     "execution_count": 45,
     "metadata": {},
     "output_type": "execute_result"
    }
   ],
   "source": [
    "# モデルの可視化\n",
    "from IPython.display import SVG\n",
    "from keras.utils.vis_utils import model_to_dot\n",
    "\n",
    "SVG(model_to_dot(model, show_shapes=True).create(prog='dot', format='svg'))"
   ]
  },
  {
   "cell_type": "markdown",
   "metadata": {},
   "source": [
    "## モデルの最適化関数や誤差関数を設定"
   ]
  },
  {
   "cell_type": "code",
   "execution_count": 46,
   "metadata": {},
   "outputs": [],
   "source": [
    "from keras.optimizers import SGD, Adadelta, Adam, RMSprop # 最適化手法\n",
    "\n",
    "\"\"\"\n",
    "モデルを評価する関数をmodel.compile()で定義しよう\n",
    "\n",
    "実際にmodel.compileの中にはこのようにします\n",
    "\n",
    "model.compile(loss=誤差関数,\n",
    "             optimizer=最適化関数,\n",
    "             metrics=['accuracy']\n",
    "             )\n",
    "             \n",
    "誤差関数　モデルの精度の悪さを表す指標　誤差逆伝播時にパラメータの更新方向を決定する数値\n",
    "・categorical_crossentropy\n",
    "\n",
    "最適化関数(好きなものを選ぼう)　誤差逆伝播時にパラメータを更新する手法\n",
    "・SGD\n",
    "・Adadelta\n",
    "・Adam\n",
    "  Adamは最近主流になっている最適化関数。一般的にSGDよりも優秀(例外はある)。\n",
    "・RMSprop\n",
    "\n",
    "評価指標\n",
    "・accuracy\n",
    "\"\"\"\n",
    "losses = {\n",
    "    \"type1_output\": \"categorical_crossentropy\",\n",
    "    \"type2_output\": \"categorical_crossentropy\",\n",
    "}\n",
    "model.compile(loss={\"type1_output\": \"categorical_crossentropy\",\n",
    "                    \"type2_output\": \"categorical_crossentropy\",}, # 誤差(損失)関数\n",
    "              optimizer=\"Adam\", # 最適化関数\n",
    "              metrics=[\"accuracy\"] # 評価指標\n",
    "             )"
   ]
  },
  {
   "cell_type": "markdown",
   "metadata": {},
   "source": [
    "## 学習"
   ]
  },
  {
   "cell_type": "code",
   "execution_count": 47,
   "metadata": {},
   "outputs": [],
   "source": [
    "import time"
   ]
  },
  {
   "cell_type": "code",
   "execution_count": 48,
   "metadata": {},
   "outputs": [
    {
     "name": "stdout",
     "output_type": "stream",
     "text": [
      "Train on 721 samples, validate on 80 samples\n",
      "Epoch 1/5\n",
      "721/721 [==============================] - 24s 34ms/step - loss: 5.7619 - type1_output_loss: 2.8781 - type2_output_loss: 2.8839 - type1_output_acc: 0.1123 - type2_output_acc: 0.0915 - val_loss: 5.7474 - val_type1_output_loss: 2.8715 - val_type2_output_loss: 2.8759 - val_type1_output_acc: 0.1500 - val_type2_output_acc: 0.0750\n",
      "Epoch 2/5\n",
      "721/721 [==============================] - 21s 29ms/step - loss: 5.7322 - type1_output_loss: 2.8626 - type2_output_loss: 2.8696 - type1_output_acc: 0.1248 - type2_output_acc: 0.0638 - val_loss: 5.7121 - val_type1_output_loss: 2.8503 - val_type2_output_loss: 2.8618 - val_type1_output_acc: 0.1125 - val_type2_output_acc: 0.0625\n",
      "Epoch 3/5\n",
      "721/721 [==============================] - 21s 29ms/step - loss: 5.7164 - type1_output_loss: 2.8540 - type2_output_loss: 2.8624 - type1_output_acc: 0.0902 - type2_output_acc: 0.0902 - val_loss: 5.6964 - val_type1_output_loss: 2.8389 - val_type2_output_loss: 2.8575 - val_type1_output_acc: 0.1125 - val_type2_output_acc: 0.1000\n",
      "Epoch 4/5\n",
      "721/721 [==============================] - 23s 32ms/step - loss: 5.7015 - type1_output_loss: 2.8451 - type2_output_loss: 2.8564 - type1_output_acc: 0.1207 - type2_output_acc: 0.1221 - val_loss: 5.6811 - val_type1_output_loss: 2.8277 - val_type2_output_loss: 2.8534 - val_type1_output_acc: 0.1500 - val_type2_output_acc: 0.1000\n",
      "Epoch 5/5\n",
      "721/721 [==============================] - 21s 29ms/step - loss: 5.6872 - type1_output_loss: 2.8363 - type2_output_loss: 2.8508 - type1_output_acc: 0.1290 - type2_output_acc: 0.1221 - val_loss: 5.6680 - val_type1_output_loss: 2.8178 - val_type2_output_loss: 2.8503 - val_type1_output_acc: 0.1500 - val_type2_output_acc: 0.1000\n"
     ]
    }
   ],
   "source": [
    "# 学習を実行\n",
    "# 学習途中の損失関数の値などはhistory.historyに保存される。\n",
    "# CIFAR-10のようにカラー画像ともなると学習時間が多くなってしまう……\n",
    "# ここでエラーが吐かれる場合、jupyterのrestart the kernelのボタンを押して最初から動かしてみるなど。\n",
    "history = model.fit(X_train, \n",
    "                    {\"type1_output\": Y_train1, \"type2_output\": Y_train2},\n",
    "                    batch_size=64,\n",
    "                    nb_epoch=5, # 試行回数\n",
    "                    verbose=1,\n",
    "                    validation_data=(X_test, {\"type1_output\": Y_test1, \"type2_output\": Y_test2}))"
   ]
  },
  {
   "cell_type": "markdown",
   "metadata": {},
   "source": [
    "## 評価"
   ]
  },
  {
   "cell_type": "code",
   "execution_count": 49,
   "metadata": {},
   "outputs": [
    {
     "data": {
      "text/plain": [
       "[5.668043518066407, 2.8177778244018556, 2.850265645980835, 0.15, 0.1]"
      ]
     },
     "execution_count": 49,
     "metadata": {},
     "output_type": "execute_result"
    }
   ],
   "source": [
    "# テストデータに対する評価値\n",
    "score = model.evaluate(X_test, [Y_test1,Y_test2], verbose=0)\n",
    "score\n",
    "# print('Test score:', score[0]) # 損失関数の値\n",
    "# print('Test accuracy:', score[1]) # 精度"
   ]
  },
  {
   "cell_type": "code",
   "execution_count": 50,
   "metadata": {},
   "outputs": [
    {
     "data": {
      "text/plain": [
       "<matplotlib.legend.Legend at 0x7effd6d35630>"
      ]
     },
     "execution_count": 50,
     "metadata": {},
     "output_type": "execute_result"
    },
    {
     "data": {
      "image/png": "[encoded data removed]",
      "text/plain": [
       "<Figure size 864x432 with 2 Axes>"
      ]
     },
     "metadata": {
      "needs_background": "light"
     },
     "output_type": "display_data"
    }
   ],
   "source": [
    "# 学習曲線\n",
    "fig, ax = plt.subplots(1, 2, figsize=(12, 6))\n",
    "ax[0].set_title('Training performance (Loss)')\n",
    "ax[0].plot(history.epoch, history.history['loss'], label='loss')\n",
    "ax[0].plot(history.epoch, history.history['type1_output_loss'], label='type1_output_loss')\n",
    "ax[0].plot(history.epoch, history.history['type2_output_loss'], label='type2_output_loss')\n",
    "ax[0].plot(history.epoch, history.history['val_loss'], label='val_loss')\n",
    "ax[0].plot(history.epoch, history.history['val_type1_output_loss'], label='val_type1_output_loss')\n",
    "ax[0].plot(history.epoch, history.history['val_type2_output_loss'], label='val_type2_output_loss')\n",
    "ax[0].set(xlabel='Epoch', ylabel='Loss')\n",
    "ax[0].legend()\n",
    "\n",
    "ax[1].set_title('Training performance (Accuracy)')\n",
    "ax[1].plot(history.epoch, history.history['type1_output_acc'], label='type1_output_acc')\n",
    "ax[1].plot(history.epoch, history.history['type2_output_acc'], label='type2_output_acc')\n",
    "ax[1].plot(history.epoch, history.history['val_type1_output_acc'], label='val_type1_output_acc')\n",
    "ax[1].plot(history.epoch, history.history['val_type2_output_acc'], label='val_type2_output_acc')\n",
    "ax[1].set(xlabel='Epoch', ylabel='Accuracy')\n",
    "ax[1].legend(loc='best')"
   ]
  },
  {
   "cell_type": "markdown",
   "metadata": {},
   "source": [
    "## 予測の可視化"
   ]
  },
  {
   "cell_type": "code",
   "execution_count": null,
   "metadata": {},
   "outputs": [],
   "source": [
    "# 予測値\n",
    "New_test = X_test\n",
    "# 画像のラベルを推定する\n",
    "Y_test_pred = model.predict(New_test)\n",
    "Y_test1_pred = Y_test_pred[0]\n",
    "Y_test2_pred = Y_test_pred[1]"
   ]
  },
  {
   "cell_type": "code",
   "execution_count": null,
   "metadata": {},
   "outputs": [],
   "source": [
    "# データの可視化\n",
    "# 上段は正しいラベル　下段は推測ラベル\n",
    "fig, ax = plt.subplots(8, 10, figsize=(18, 18))\n",
    "for for_1 in range(8):\n",
    "    for for_2 in range(10):\n",
    "        ax[for_1][for_2].imshow(New_test[for_1*10+for_2].reshape(215, 215, 4))\n",
    "        ax[for_1][for_2].set_title(f\"{types[y_test1[for_1*10+for_2]]}:{types[y_test2[for_1*10+for_2]]}\"\n",
    "                                   +\"\\n\"\n",
    "                                   +f\"{types[np.argmax(Y_test1_pred[for_1*10+for_2])]}:{types[np.argmax(Y_test2_pred[for_1*10+for_2])]}\")\n",
    "        ax[for_1][for_2].axis('off')"
   ]
  },
  {
   "cell_type": "code",
   "execution_count": null,
   "metadata": {},
   "outputs": [],
   "source": [
    "# 予測の可視化\n",
    "# Y軸が渡した画像の数字　X軸がニューラルネットワークによる推定値\n",
    "plt.imshow(Y_test1_pred, cmap='gray', interpolation='nearest', vmin=0, vmax=1) #Y_test_predの範囲を変えることで予測の場所を変更できる"
   ]
  },
  {
   "cell_type": "code",
   "execution_count": null,
   "metadata": {},
   "outputs": [],
   "source": [
    "plt.imshow(Y_test2_pred, cmap='gray', interpolation='nearest', vmin=0, vmax=1) #Y_test_predの範囲を変えることで予測の場所を変更できる"
   ]
  },
  {
   "cell_type": "code",
   "execution_count": null,
   "metadata": {},
   "outputs": [],
   "source": []
  }
 ],
 "metadata": {
  "kernelspec": {
   "display_name": "Python 3",
   "language": "python",
   "name": "python3"
  },
  "language_info": {
   "codemirror_mode": {
    "name": "ipython",
    "version": 3
   },
   "file_extension": ".py",
   "mimetype": "text/x-python",
   "name": "python",
   "nbconvert_exporter": "python",
   "pygments_lexer": "ipython3",
   "version": "3.7.3"
  }
 },
 "nbformat": 4,
 "nbformat_minor": 2
}
