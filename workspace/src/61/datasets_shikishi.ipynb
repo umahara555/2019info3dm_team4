{
 "cells": [
  {
   "cell_type": "code",
   "execution_count": 6,
   "metadata": {},
   "outputs": [],
   "source": [
    "import pandas as pd\n",
    "from PIL import Image\n",
    "import matplotlib.pyplot as plt\n",
    "import numpy as np\n",
    "import glob\n",
    "from keras.preprocessing.image import ImageDataGenerator"
   ]
  },
  {
   "cell_type": "code",
   "execution_count": 7,
   "metadata": {},
   "outputs": [],
   "source": [
    "df = pd.read_csv('../../data/Pokemon.csv', sep=',')"
   ]
  },
  {
   "cell_type": "code",
   "execution_count": 8,
   "metadata": {},
   "outputs": [],
   "source": [
    "df2 = df.drop_duplicates(subset='Number')\n",
    "df2.reset_index(inplace=True, drop=True)\n",
    "df2 = df2[['Number', 'Type1', 'Type2']]\n",
    "df2 = df2.replace({\"Normal\": 0, \n",
    "                   \"Fire\": 1, \n",
    "                   \"Water\": 2, \n",
    "                   \"Electric\": 3, \n",
    "                   \"Grass\": 4, \n",
    "                   \"Ice\": 5, \n",
    "                   \"Fighting\": 6, \n",
    "                   \"Poison\": 7, \n",
    "                   \"Ground\": 8, \n",
    "                   \"Flying\": 9, \n",
    "                   \"Psychic\": 10, \n",
    "                   \"Bug\": 11, \n",
    "                   \"Rock\": 12, \n",
    "                   \"Ghost\": 13, \n",
    "                   \"Dragon\": 14, \n",
    "                   \"Dark\": 15, \n",
    "                   \"Steel\": 16, \n",
    "                   \"Fairy\": 17})\n",
    "ind = df2[df2['Type2'].isnull()]['Type2'].index\n",
    "df2.iloc[ind, 2] = df2.iloc[ind, 1]"
   ]
  },
  {
   "cell_type": "code",
   "execution_count": 9,
   "metadata": {},
   "outputs": [],
   "source": [
    "images_path = glob.glob('../../data/images/*')\n",
    "images_path.sort()\n",
    "image_image = []\n",
    "for i in images_path:\n",
    "    im = Image.open(i)\n",
    "    image_image.append(np.asarray(im))"
   ]
  }
 ],
 "metadata": {
  "kernelspec": {
   "display_name": "Python 3",
   "language": "python",
   "name": "python3"
  },
  "language_info": {
   "codemirror_mode": {
    "name": "ipython",
    "version": 3
   },
   "file_extension": ".py",
   "mimetype": "text/x-python",
   "name": "python",
   "nbconvert_exporter": "python",
   "pygments_lexer": "ipython3",
   "version": "3.7.3"
  }
 },
 "nbformat": 4,
 "nbformat_minor": 2
}
